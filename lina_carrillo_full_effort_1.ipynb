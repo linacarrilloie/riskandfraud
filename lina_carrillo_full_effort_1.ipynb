{
 "cells": [
  {
   "cell_type": "code",
   "execution_count": 510,
   "metadata": {
    "ExecuteTime": {
     "end_time": "2020-05-23T14:32:04.348463Z",
     "start_time": "2020-05-23T14:32:04.315239Z"
    }
   },
   "outputs": [],
   "source": [
    "#libraries\n",
    "import pandas as pd\n",
    "from sklearn.preprocessing import  StandardScaler, MinMaxScaler\n",
    "from scipy.stats import skew, boxcox_normmax\n",
    "from scipy.special import boxcox1p\n",
    "import numpy as np\n",
    "import statsmodels.api as sm\n",
    "from sklearn.metrics import make_scorer\n",
    "from sklearn.metrics import roc_auc_score\n",
    "import requests\n",
    "from requests.auth import HTTPBasicAuth\n",
    "from sklearn.ensemble import RandomForestClassifier\n",
    "from sklearn.model_selection import cross_validate, GridSearchCV, ShuffleSplit\n",
    "from sklearn.preprocessing import PowerTransformer\n",
    "import re\n",
    "from deap import creator, base, tools, algorithms #GENETIC ALGORITHM LIBRARY - requirement: pip install deap\n",
    "import random\n",
    "from sklearn import metrics\n",
    "from sklearn.pipeline import Pipeline\n",
    "import imblearn\n",
    "from imblearn.over_sampling import SMOTE"
   ]
  },
  {
   "cell_type": "code",
   "execution_count": 748,
   "metadata": {
    "ExecuteTime": {
     "end_time": "2020-05-24T10:11:23.580952Z",
     "start_time": "2020-05-24T10:11:23.520903Z"
    }
   },
   "outputs": [],
   "source": [
    "#read data sets\n",
    "df = pd.read_csv(\"dev.csv\") #DEV-SAMPLE\n",
    "dfo = pd.read_csv(\"oot0.csv\")#OUT-OF-TIME SAMPLE"
   ]
  },
  {
   "cell_type": "code",
   "execution_count": 749,
   "metadata": {
    "ExecuteTime": {
     "end_time": "2020-05-24T10:11:24.104116Z",
     "start_time": "2020-05-24T10:11:24.082045Z"
    }
   },
   "outputs": [],
   "source": [
    "#save target and id and then drop\n",
    "y = df[\"ob_target\"]\n",
    "dfo_id = dfo[\"id\"]\n",
    "\n",
    "df = df.drop([\"ob_target\",\"id\"], axis=1)\n",
    "dfo = dfo.drop(\"id\", axis=1)"
   ]
  },
  {
   "cell_type": "markdown",
   "metadata": {},
   "source": [
    "# 1. EDA"
   ]
  },
  {
   "cell_type": "code",
   "execution_count": 750,
   "metadata": {
    "ExecuteTime": {
     "end_time": "2020-05-24T10:11:28.906285Z",
     "start_time": "2020-05-24T10:11:28.897333Z"
    }
   },
   "outputs": [
    {
     "data": {
      "text/plain": [
       "Index(['ib_var_1', 'ib_var_2', 'ib_var_3', 'ib_var_4', 'ib_var_5', 'ib_var_6',\n",
       "       'ib_var_7', 'ib_var_8', 'ib_var_9', 'ib_var_10', 'ib_var_11',\n",
       "       'ib_var_12', 'ib_var_13', 'ib_var_14', 'ib_var_15', 'ib_var_16',\n",
       "       'ib_var_17', 'ib_var_18', 'ib_var_19', 'ib_var_20', 'ib_var_21',\n",
       "       'icn_var_22', 'icn_var_23', 'icn_var_24', 'ico_var_25', 'ico_var_26',\n",
       "       'ico_var_27', 'ico_var_28', 'ico_var_29', 'ico_var_30', 'ico_var_31',\n",
       "       'ico_var_32', 'ico_var_33', 'ico_var_34', 'ico_var_35', 'ico_var_36',\n",
       "       'ico_var_37', 'ico_var_38', 'ico_var_39', 'ico_var_40', 'ico_var_41',\n",
       "       'ico_var_42', 'ico_var_43', 'ico_var_44', 'ico_var_45', 'ico_var_46',\n",
       "       'ico_var_47', 'ico_var_48', 'ico_var_49', 'ico_var_50', 'ico_var_51',\n",
       "       'ico_var_52', 'ico_var_53', 'ico_var_54', 'ico_var_55', 'ico_var_56',\n",
       "       'ico_var_57', 'ico_var_58', 'ico_var_59', 'ico_var_60', 'ico_var_61',\n",
       "       'ico_var_62', 'ico_var_63', 'ico_var_64', 'if_var_65', 'if_var_66',\n",
       "       'if_var_67', 'if_var_68', 'if_var_69', 'if_var_70', 'if_var_71',\n",
       "       'if_var_72', 'if_var_73', 'if_var_74', 'if_var_75', 'if_var_76',\n",
       "       'if_var_77', 'if_var_78', 'if_var_79', 'if_var_80', 'if_var_81'],\n",
       "      dtype='object')"
      ]
     },
     "execution_count": 750,
     "metadata": {},
     "output_type": "execute_result"
    }
   ],
   "source": [
    "df.columns"
   ]
  },
  {
   "cell_type": "code",
   "execution_count": 751,
   "metadata": {
    "ExecuteTime": {
     "end_time": "2020-05-24T10:11:29.373449Z",
     "start_time": "2020-05-24T10:11:29.359369Z"
    }
   },
   "outputs": [
    {
     "data": {
      "text/plain": [
       "Index(['ib_var_1', 'ib_var_2', 'ib_var_3', 'ib_var_4', 'ib_var_5', 'ib_var_6',\n",
       "       'ib_var_7', 'ib_var_8', 'ib_var_9', 'ib_var_10', 'ib_var_11',\n",
       "       'ib_var_12', 'ib_var_13', 'ib_var_14', 'ib_var_15', 'ib_var_16',\n",
       "       'ib_var_17', 'ib_var_18', 'ib_var_19', 'ib_var_20', 'ib_var_21',\n",
       "       'icn_var_22', 'icn_var_23', 'icn_var_24', 'ico_var_25', 'ico_var_26',\n",
       "       'ico_var_27', 'ico_var_28', 'ico_var_29', 'ico_var_30', 'ico_var_31',\n",
       "       'ico_var_32', 'ico_var_33', 'ico_var_34', 'ico_var_35', 'ico_var_36',\n",
       "       'ico_var_37', 'ico_var_38', 'ico_var_39', 'ico_var_40', 'ico_var_41',\n",
       "       'ico_var_42', 'ico_var_43', 'ico_var_44', 'ico_var_45', 'ico_var_46',\n",
       "       'ico_var_47', 'ico_var_48', 'ico_var_49', 'ico_var_50', 'ico_var_51',\n",
       "       'ico_var_52', 'ico_var_53', 'ico_var_54', 'ico_var_55', 'ico_var_56',\n",
       "       'ico_var_57', 'ico_var_58', 'ico_var_59', 'ico_var_60', 'ico_var_61',\n",
       "       'ico_var_62', 'ico_var_63', 'ico_var_64', 'if_var_65', 'if_var_66',\n",
       "       'if_var_67', 'if_var_68', 'if_var_69', 'if_var_70', 'if_var_71',\n",
       "       'if_var_72', 'if_var_73', 'if_var_74', 'if_var_75', 'if_var_76',\n",
       "       'if_var_77', 'if_var_78', 'if_var_79', 'if_var_80', 'if_var_81'],\n",
       "      dtype='object')"
      ]
     },
     "execution_count": 751,
     "metadata": {},
     "output_type": "execute_result"
    }
   ],
   "source": [
    "dfo.columns"
   ]
  },
  {
   "cell_type": "markdown",
   "metadata": {},
   "source": [
    "#### Inspecting nulls"
   ]
  },
  {
   "cell_type": "code",
   "execution_count": 762,
   "metadata": {
    "ExecuteTime": {
     "end_time": "2020-05-24T10:15:36.503524Z",
     "start_time": "2020-05-24T10:15:36.492904Z"
    }
   },
   "outputs": [
    {
     "data": {
      "text/plain": [
       "ib_var_1      0\n",
       "ico_var_58    0\n",
       "ico_var_57    0\n",
       "ico_var_56    0\n",
       "ico_var_55    0\n",
       "             ..\n",
       "icn_var_24    0\n",
       "icn_var_23    0\n",
       "icn_var_22    0\n",
       "ico_var_40    0\n",
       "if_var_81     0\n",
       "Length: 81, dtype: int64"
      ]
     },
     "execution_count": 762,
     "metadata": {},
     "output_type": "execute_result"
    }
   ],
   "source": [
    "df.isna().sum().sort_values()"
   ]
  },
  {
   "cell_type": "code",
   "execution_count": 763,
   "metadata": {
    "ExecuteTime": {
     "end_time": "2020-05-24T10:15:40.769692Z",
     "start_time": "2020-05-24T10:15:40.759812Z"
    }
   },
   "outputs": [
    {
     "data": {
      "text/plain": [
       "ico_var_31     0\n",
       "ico_var_30     0\n",
       "ico_var_37     1\n",
       "ico_var_33     1\n",
       "ib_var_19      1\n",
       "ico_var_26     1\n",
       "ib_var_15      1\n",
       "ib_var_16      1\n",
       "ib_var_17      1\n",
       "ib_var_18      1\n",
       "ib_var_20      1\n",
       "ib_var_21      1\n",
       "if_var_78     15\n",
       "icn_var_24    20\n",
       "icn_var_22    72\n",
       "dtype: int64"
      ]
     },
     "execution_count": 763,
     "metadata": {},
     "output_type": "execute_result"
    }
   ],
   "source": [
    "dfo.isna().sum().sort_values().tail(15)"
   ]
  },
  {
   "cell_type": "markdown",
   "metadata": {},
   "source": [
    "#### Inspecting our target variable"
   ]
  },
  {
   "cell_type": "code",
   "execution_count": 743,
   "metadata": {
    "ExecuteTime": {
     "end_time": "2020-05-24T09:15:43.799733Z",
     "start_time": "2020-05-24T09:15:42.953004Z"
    }
   },
   "outputs": [
    {
     "data": {
      "text/plain": [
       "<matplotlib.axes._subplots.AxesSubplot at 0x1a5ede8160>"
      ]
     },
     "execution_count": 743,
     "metadata": {},
     "output_type": "execute_result"
    },
    {
     "data": {
      "image/png": "[encoded data removed]",
      "text/plain": [
       "<Figure size 432x288 with 1 Axes>"
      ]
     },
     "metadata": {
      "needs_background": "light"
     },
     "output_type": "display_data"
    }
   ],
   "source": [
    "y.hist()"
   ]
  },
  {
   "cell_type": "code",
   "execution_count": 772,
   "metadata": {
    "ExecuteTime": {
     "end_time": "2020-05-24T10:20:09.304684Z",
     "start_time": "2020-05-24T10:20:09.298438Z"
    }
   },
   "outputs": [
    {
     "name": "stdout",
     "output_type": "stream",
     "text": [
      "0.10185185185185185\n"
     ]
    }
   ],
   "source": [
    "print(len(y[y==True])/len(y))"
   ]
  },
  {
   "cell_type": "markdown",
   "metadata": {},
   "source": [
    "## 2. Treating Null Rows"
   ]
  },
  {
   "cell_type": "markdown",
   "metadata": {},
   "source": [
    "### 2.1 Removing rows where any column has a null value"
   ]
  },
  {
   "cell_type": "code",
   "execution_count": 621,
   "metadata": {
    "ExecuteTime": {
     "end_time": "2020-05-23T14:46:25.409617Z",
     "start_time": "2020-05-23T14:46:25.357782Z"
    }
   },
   "outputs": [],
   "source": [
    "dfo_with_nulls = dfo # copy of dfo\n",
    "\n",
    "dfo_nulls = dfo[dfo.isnull().any(1)] #get all the rows where there are null values\n",
    "null_cols = [col for col in dfo_nulls.columns if dfo_nulls[col].isnull().any()] #get columns where there are null values\n",
    "dfo = dfo.dropna() #get new df without these rows"
   ]
  },
  {
   "cell_type": "markdown",
   "metadata": {},
   "source": [
    "### 2.2 Define the function to obtain KS, which is the metric we will optimize in our models"
   ]
  },
  {
   "cell_type": "code",
   "execution_count": 575,
   "metadata": {
    "ExecuteTime": {
     "end_time": "2020-05-23T14:39:45.531281Z",
     "start_time": "2020-05-23T14:39:45.519923Z"
    }
   },
   "outputs": [],
   "source": [
    "def KS(b,a):  \n",
    "    \"\"\"Function that received two parameters; first: a binary variable representing 0=good and 1=bad, \n",
    "    and then a second variable with the prediction of the first variable, the second variable can be continuous, \n",
    "    integer or binary - continuous is better. Finally, the function returns the KS Statistics of the two lists.\"\"\"\n",
    "    try:\n",
    "        tot_bads=1.0*sum(b)\n",
    "        tot_goods=1.0*(len(b)-tot_bads)\n",
    "        elements = zip(*[a,b])\n",
    "        elements = sorted(elements,key= lambda x: x[0])\n",
    "        elements_df = pd.DataFrame({'probability': b,'gbi': a})\n",
    "        pivot_elements_df = pd.pivot_table(elements_df, values='probability', index=['gbi'], aggfunc=[sum,len]).fillna(0)\n",
    "        max_ks = perc_goods = perc_bads = cum_perc_bads = cum_perc_goods = 0\n",
    "        for i in range(len(pivot_elements_df)):\n",
    "            perc_goods =  (pivot_elements_df.iloc[i]['len'] - pivot_elements_df.iloc[i]['sum']) / tot_goods\n",
    "            perc_bads = pivot_elements_df.iloc[i]['sum']/ tot_bads\n",
    "            cum_perc_goods += perc_goods\n",
    "            cum_perc_bads += perc_bads\n",
    "            A = cum_perc_bads-cum_perc_goods\n",
    "            if abs(A['probability']) > max_ks:\n",
    "                max_ks = abs(A['probability'])\n",
    "    except:\n",
    "        max_ks = 0\n",
    "    return max_ks\n",
    "\n",
    "my_func = make_scorer(KS, greater_is_better=True) #with the make scorer package we can define our own function to optimizize\n"
   ]
  },
  {
   "cell_type": "code",
   "execution_count": 576,
   "metadata": {
    "ExecuteTime": {
     "end_time": "2020-05-23T14:40:07.995658Z",
     "start_time": "2020-05-23T14:39:46.332737Z"
    }
   },
   "outputs": [
    {
     "name": "stdout",
     "output_type": "stream",
     "text": [
      "{'n_estimators': 1000}\n",
      "0.0\n",
      "GINI DEVELOPMENT= 1.0\n",
      "KS= 0.9999999999999968\n"
     ]
    }
   ],
   "source": [
    "#To optimize our model we will start with a very simple gridsearch, only tuning for the number of estimators\n",
    "\n",
    "X = df\n",
    "Xo = dfo\n",
    "\n",
    "param_test = {\n",
    " 'n_estimators':[1000,1500,2000],\n",
    "}\n",
    "\n",
    "rf = RandomForestClassifier(criterion = 'gini', \n",
    "                                #n_estimators = 100,\n",
    "                                max_samples = 0.7,\n",
    "                                min_samples_split = 0.001, \n",
    "                                min_samples_leaf = 0.0001,\n",
    "                                max_leaf_nodes = 200, \n",
    "                                min_impurity_decrease = 0.0001,\n",
    "                                random_state = 21,\n",
    "                                class_weight = 'balanced')\n",
    "\n",
    "gsearch = GridSearchCV(estimator = rf, \n",
    "                       param_grid = param_test, \n",
    "                       scoring=my_func, #### we will be optimizing by my_func !\n",
    "                       n_jobs=4,\n",
    "                       cv=3,\n",
    "                       refit = True,\n",
    "                       return_train_score = True)\n",
    "\n",
    "fitted_model = gsearch.fit(X, y)\n",
    "pred_dev = gsearch.best_estimator_.predict_proba(X)[:,1]\n",
    "pred_oot  = gsearch.best_estimator_.predict_proba(Xo)[:,1]\n",
    "\n",
    "print( gsearch.best_params_)\n",
    "print( gsearch.best_score_)\n",
    "\n",
    "gini_score = 2*roc_auc_score(y, pred_dev)-1\n",
    "print (\"GINI DEVELOPMENT=\", gini_score)\n",
    "\n",
    "KS_score = KS(y,pred_dev)\n",
    "print(\"KS=\",KS_score)"
   ]
  },
  {
   "cell_type": "markdown",
   "metadata": {},
   "source": [
    "Now, lets add back those rows that we removed and predict all zeros on those rows, just for the moment.\n",
    "At the end we will find a better way to fill the prediction on the rows with null values"
   ]
  },
  {
   "cell_type": "code",
   "execution_count": 577,
   "metadata": {
    "ExecuteTime": {
     "end_time": "2020-05-23T14:40:08.013373Z",
     "start_time": "2020-05-23T14:40:07.997801Z"
    }
   },
   "outputs": [],
   "source": [
    "dfo_index = pd.DataFrame(dfo_with_nulls.index) #get index of the dataframe which includes nulls\n",
    "prediction_with_indexes = pd.DataFrame(dfo.index) #turn into dataframe\n",
    "prediction_with_indexes[\"prediction\"] = pred_oot #add the predicted values of the model without these rows\n",
    "new_df = pd.merge(dfo_index,prediction_with_indexes,  left_on=0, right_on=0, how='left') #left join\n",
    "new_df[\"prediction\"].fillna(0, inplace=True) #fill na's with 0s\n",
    "pred_oot = new_df[\"prediction\"] #and we have our final prediction"
   ]
  },
  {
   "cell_type": "markdown",
   "metadata": {},
   "source": [
    "#### And let's predict! Everytime we do a prediction we will repeat the process of adding back the rows with nulls and filling their predictions with 0's"
   ]
  },
  {
   "cell_type": "markdown",
   "metadata": {},
   "source": [
    "### 2.3 Baseline Model"
   ]
  },
  {
   "cell_type": "code",
   "execution_count": 469,
   "metadata": {
    "ExecuteTime": {
     "end_time": "2020-05-23T14:20:43.424329Z",
     "start_time": "2020-05-23T14:20:41.884467Z"
    }
   },
   "outputs": [
    {
     "name": "stdout",
     "output_type": "stream",
     "text": [
      "RESULT SUBMISSION:  KS2 = 0.3791925064; GINI = 0.484386408377; GRADE = 8.986\n"
     ]
    }
   ],
   "source": [
    "dfo_with_nulls[\"id\"]=dfo_id\n",
    "dfo_with_nulls['pred'] = pred_oot\n",
    "\n",
    "dfo_tosend = dfo_with_nulls[list(['id','pred'])]\n",
    "i=1\n",
    "filename = \"student_sub\"+str(i)+\".csv\"\n",
    "dfo_tosend.to_csv(filename, sep=',')\n",
    "url = '****'\n",
    "files = {'file': (filename, open(filename, 'rb'))}\n",
    "\n",
    "\"\"\"\n",
    "To compete in this challenge, please create an user at my teaching website:\n",
    "and replace below where it says:\n",
    "* my_user_name_goes_here\n",
    "* my_password_goes_here\n",
    "\"\"\"\n",
    "rsub = requests.post(url, files=files, auth=HTTPBasicAuth('****', '****'))\n",
    "resp_str = str(rsub.text)\n",
    "print (\"RESULT SUBMISSION: \", resp_str)"
   ]
  },
  {
   "cell_type": "markdown",
   "metadata": {},
   "source": [
    "## 3. More data cleaning ##"
   ]
  },
  {
   "cell_type": "code",
   "execution_count": 622,
   "metadata": {
    "ExecuteTime": {
     "end_time": "2020-05-23T14:46:30.202832Z",
     "start_time": "2020-05-23T14:46:30.187719Z"
    }
   },
   "outputs": [],
   "source": [
    "#### First, let's classify the variables according to their format\n",
    "\n",
    "df_ib = df.loc[:,(df.columns.str.startswith(\"ib\"))] #input binary\n",
    "dfo_ib = dfo.loc[:,(dfo.columns.str.startswith(\"ib\"))] #input binary\n",
    "\n",
    "df_icn = df.loc[:,(df.columns.str.startswith(\"icn\"))] #input categorical nominal\n",
    "dfo_icn = dfo.loc[:,(dfo.columns.str.startswith(\"icn\"))] #input categorical nominal\n",
    "\n",
    "df_ico = df.loc[:,(df.columns.str.startswith(\"ico\"))] #input categoricl ordinal\n",
    "dfo_ico = dfo.loc[:,(dfo.columns.str.startswith(\"ico\"))] #input categoricl ordinal\n",
    "\n",
    "df_if = df.loc[:,(df.columns.str.startswith(\"if\"))] #continuous\n",
    "dfo_if = dfo.loc[:,(dfo.columns.str.startswith(\"if\"))] #continuous\n"
   ]
  },
  {
   "cell_type": "markdown",
   "metadata": {},
   "source": [
    "### 3.1 Scaling"
   ]
  },
  {
   "cell_type": "code",
   "execution_count": 623,
   "metadata": {
    "ExecuteTime": {
     "end_time": "2020-05-23T14:46:30.764985Z",
     "start_time": "2020-05-23T14:46:30.591347Z"
    }
   },
   "outputs": [
    {
     "name": "stderr",
     "output_type": "stream",
     "text": [
      "/Users/lina/anaconda3/lib/python3.7/site-packages/ipykernel_launcher.py:10: SettingWithCopyWarning: \n",
      "A value is trying to be set on a copy of a slice from a DataFrame.\n",
      "Try using .loc[row_indexer,col_indexer] = value instead\n",
      "\n",
      "See the caveats in the documentation: https://pandas.pydata.org/pandas-docs/stable/user_guide/indexing.html#returning-a-view-versus-a-copy\n",
      "  # Remove the CWD from sys.path while we load stuff.\n",
      "/Users/lina/anaconda3/lib/python3.7/site-packages/ipykernel_launcher.py:10: SettingWithCopyWarning: \n",
      "A value is trying to be set on a copy of a slice from a DataFrame.\n",
      "Try using .loc[row_indexer,col_indexer] = value instead\n",
      "\n",
      "See the caveats in the documentation: https://pandas.pydata.org/pandas-docs/stable/user_guide/indexing.html#returning-a-view-versus-a-copy\n",
      "  # Remove the CWD from sys.path while we load stuff.\n",
      "/Users/lina/anaconda3/lib/python3.7/site-packages/ipykernel_launcher.py:10: SettingWithCopyWarning: \n",
      "A value is trying to be set on a copy of a slice from a DataFrame.\n",
      "Try using .loc[row_indexer,col_indexer] = value instead\n",
      "\n",
      "See the caveats in the documentation: https://pandas.pydata.org/pandas-docs/stable/user_guide/indexing.html#returning-a-view-versus-a-copy\n",
      "  # Remove the CWD from sys.path while we load stuff.\n",
      "/Users/lina/anaconda3/lib/python3.7/site-packages/ipykernel_launcher.py:10: SettingWithCopyWarning: \n",
      "A value is trying to be set on a copy of a slice from a DataFrame.\n",
      "Try using .loc[row_indexer,col_indexer] = value instead\n",
      "\n",
      "See the caveats in the documentation: https://pandas.pydata.org/pandas-docs/stable/user_guide/indexing.html#returning-a-view-versus-a-copy\n",
      "  # Remove the CWD from sys.path while we load stuff.\n",
      "/Users/lina/anaconda3/lib/python3.7/site-packages/ipykernel_launcher.py:10: SettingWithCopyWarning: \n",
      "A value is trying to be set on a copy of a slice from a DataFrame.\n",
      "Try using .loc[row_indexer,col_indexer] = value instead\n",
      "\n",
      "See the caveats in the documentation: https://pandas.pydata.org/pandas-docs/stable/user_guide/indexing.html#returning-a-view-versus-a-copy\n",
      "  # Remove the CWD from sys.path while we load stuff.\n",
      "/Users/lina/anaconda3/lib/python3.7/site-packages/ipykernel_launcher.py:10: SettingWithCopyWarning: \n",
      "A value is trying to be set on a copy of a slice from a DataFrame.\n",
      "Try using .loc[row_indexer,col_indexer] = value instead\n",
      "\n",
      "See the caveats in the documentation: https://pandas.pydata.org/pandas-docs/stable/user_guide/indexing.html#returning-a-view-versus-a-copy\n",
      "  # Remove the CWD from sys.path while we load stuff.\n",
      "/Users/lina/anaconda3/lib/python3.7/site-packages/ipykernel_launcher.py:10: SettingWithCopyWarning: \n",
      "A value is trying to be set on a copy of a slice from a DataFrame.\n",
      "Try using .loc[row_indexer,col_indexer] = value instead\n",
      "\n",
      "See the caveats in the documentation: https://pandas.pydata.org/pandas-docs/stable/user_guide/indexing.html#returning-a-view-versus-a-copy\n",
      "  # Remove the CWD from sys.path while we load stuff.\n",
      "/Users/lina/anaconda3/lib/python3.7/site-packages/ipykernel_launcher.py:10: SettingWithCopyWarning: \n",
      "A value is trying to be set on a copy of a slice from a DataFrame.\n",
      "Try using .loc[row_indexer,col_indexer] = value instead\n",
      "\n",
      "See the caveats in the documentation: https://pandas.pydata.org/pandas-docs/stable/user_guide/indexing.html#returning-a-view-versus-a-copy\n",
      "  # Remove the CWD from sys.path while we load stuff.\n",
      "/Users/lina/anaconda3/lib/python3.7/site-packages/ipykernel_launcher.py:10: SettingWithCopyWarning: \n",
      "A value is trying to be set on a copy of a slice from a DataFrame.\n",
      "Try using .loc[row_indexer,col_indexer] = value instead\n",
      "\n",
      "See the caveats in the documentation: https://pandas.pydata.org/pandas-docs/stable/user_guide/indexing.html#returning-a-view-versus-a-copy\n",
      "  # Remove the CWD from sys.path while we load stuff.\n",
      "/Users/lina/anaconda3/lib/python3.7/site-packages/ipykernel_launcher.py:10: SettingWithCopyWarning: \n",
      "A value is trying to be set on a copy of a slice from a DataFrame.\n",
      "Try using .loc[row_indexer,col_indexer] = value instead\n",
      "\n",
      "See the caveats in the documentation: https://pandas.pydata.org/pandas-docs/stable/user_guide/indexing.html#returning-a-view-versus-a-copy\n",
      "  # Remove the CWD from sys.path while we load stuff.\n",
      "/Users/lina/anaconda3/lib/python3.7/site-packages/ipykernel_launcher.py:10: SettingWithCopyWarning: \n",
      "A value is trying to be set on a copy of a slice from a DataFrame.\n",
      "Try using .loc[row_indexer,col_indexer] = value instead\n",
      "\n",
      "See the caveats in the documentation: https://pandas.pydata.org/pandas-docs/stable/user_guide/indexing.html#returning-a-view-versus-a-copy\n",
      "  # Remove the CWD from sys.path while we load stuff.\n",
      "/Users/lina/anaconda3/lib/python3.7/site-packages/ipykernel_launcher.py:10: SettingWithCopyWarning: \n",
      "A value is trying to be set on a copy of a slice from a DataFrame.\n",
      "Try using .loc[row_indexer,col_indexer] = value instead\n",
      "\n",
      "See the caveats in the documentation: https://pandas.pydata.org/pandas-docs/stable/user_guide/indexing.html#returning-a-view-versus-a-copy\n",
      "  # Remove the CWD from sys.path while we load stuff.\n",
      "/Users/lina/anaconda3/lib/python3.7/site-packages/ipykernel_launcher.py:10: SettingWithCopyWarning: \n",
      "A value is trying to be set on a copy of a slice from a DataFrame.\n",
      "Try using .loc[row_indexer,col_indexer] = value instead\n",
      "\n",
      "See the caveats in the documentation: https://pandas.pydata.org/pandas-docs/stable/user_guide/indexing.html#returning-a-view-versus-a-copy\n",
      "  # Remove the CWD from sys.path while we load stuff.\n",
      "/Users/lina/anaconda3/lib/python3.7/site-packages/ipykernel_launcher.py:10: SettingWithCopyWarning: \n",
      "A value is trying to be set on a copy of a slice from a DataFrame.\n",
      "Try using .loc[row_indexer,col_indexer] = value instead\n",
      "\n",
      "See the caveats in the documentation: https://pandas.pydata.org/pandas-docs/stable/user_guide/indexing.html#returning-a-view-versus-a-copy\n",
      "  # Remove the CWD from sys.path while we load stuff.\n",
      "/Users/lina/anaconda3/lib/python3.7/site-packages/ipykernel_launcher.py:10: SettingWithCopyWarning: \n",
      "A value is trying to be set on a copy of a slice from a DataFrame.\n",
      "Try using .loc[row_indexer,col_indexer] = value instead\n",
      "\n",
      "See the caveats in the documentation: https://pandas.pydata.org/pandas-docs/stable/user_guide/indexing.html#returning-a-view-versus-a-copy\n",
      "  # Remove the CWD from sys.path while we load stuff.\n",
      "/Users/lina/anaconda3/lib/python3.7/site-packages/ipykernel_launcher.py:10: SettingWithCopyWarning: \n",
      "A value is trying to be set on a copy of a slice from a DataFrame.\n",
      "Try using .loc[row_indexer,col_indexer] = value instead\n",
      "\n",
      "See the caveats in the documentation: https://pandas.pydata.org/pandas-docs/stable/user_guide/indexing.html#returning-a-view-versus-a-copy\n",
      "  # Remove the CWD from sys.path while we load stuff.\n",
      "/Users/lina/anaconda3/lib/python3.7/site-packages/ipykernel_launcher.py:10: SettingWithCopyWarning: \n",
      "A value is trying to be set on a copy of a slice from a DataFrame.\n",
      "Try using .loc[row_indexer,col_indexer] = value instead\n",
      "\n",
      "See the caveats in the documentation: https://pandas.pydata.org/pandas-docs/stable/user_guide/indexing.html#returning-a-view-versus-a-copy\n",
      "  # Remove the CWD from sys.path while we load stuff.\n"
     ]
    }
   ],
   "source": [
    "## Scaling continuous variables\n",
    "\n",
    "scaler = MinMaxScaler()\n",
    "for column in df_if:\n",
    "    scaler.fit(df_if[[column]])\n",
    "    df[column]=scaler.transform(df_if[[column]])\n",
    "    \n",
    "for column in dfo_if:\n",
    "    scaler.fit(dfo_if[[column]])\n",
    "    dfo[column]=scaler.transform(dfo_if[[column]])\n",
    "    "
   ]
  },
  {
   "cell_type": "code",
   "execution_count": 473,
   "metadata": {
    "ExecuteTime": {
     "end_time": "2020-05-23T14:23:24.446502Z",
     "start_time": "2020-05-23T14:23:13.637631Z"
    }
   },
   "outputs": [
    {
     "name": "stdout",
     "output_type": "stream",
     "text": [
      "{'n_estimators': 1000}\n",
      "0.8499556168660374\n",
      "GINI DEVELOPMENT= 1.0\n",
      "KS= 0.9999999999999968\n",
      "RESULT SUBMISSION:  KS2 = 0.366635782216; GINI = 0.462929417093; GRADE = 8.688\n"
     ]
    }
   ],
   "source": [
    "X = df\n",
    "Xo = dfo\n",
    "\n",
    "fitted_model = gsearch.fit(X, y)\n",
    "pred_dev = gsearch.best_estimator_.predict_proba(X)[:,1]\n",
    "pred_oot  = gsearch.best_estimator_.predict_proba(Xo)[:,1]\n",
    "\n",
    "print( gsearch.best_params_)\n",
    "print( gsearch.best_score_)\n",
    "\n",
    "gini_score = 2*roc_auc_score(y, pred_dev)-1\n",
    "print (\"GINI DEVELOPMENT=\", gini_score)\n",
    "\n",
    "KS_score = KS(y,pred_dev)\n",
    "print(\"KS=\",KS_score)\n",
    "\n",
    "dfo_index = pd.DataFrame(dfo_with_nulls.index)\n",
    "prediction_with_indexes = pd.DataFrame(dfo.index)\n",
    "prediction_with_indexes[\"prediction\"] = pred_oot\n",
    "new_df = pd.merge(dfo_index,prediction_with_indexes,  left_on=0, right_on=0, how='left')\n",
    "new_df[\"prediction\"].fillna(0, inplace=True)\n",
    "pred_oot = new_df[\"prediction\"]\n",
    "\n",
    "dfo_with_nulls[\"id\"]=dfo_id\n",
    "dfo_with_nulls['pred'] = pred_oot\n",
    "\n",
    "dfo_tosend = dfo_with_nulls[list(['id','pred'])]\n",
    "i=1\n",
    "filename = \"student_sub\"+str(i)+\".csv\"\n",
    "dfo_tosend.to_csv(filename, sep=',')\n",
    "url = '****'\n",
    "files = {'file': (filename, open(filename, 'rb'))}\n",
    "\n",
    "\"\"\"\n",
    "To compete in this challenge, please create an user at my teaching website:\n",
    "and replace below where it says:\n",
    "* my_user_name_goes_here\n",
    "* my_password_goes_here\n",
    "\"\"\"\n",
    "rsub = requests.post(url, files=files, auth=HTTPBasicAuth('****', '****'))\n",
    "resp_str = str(rsub.text)\n",
    "print (\"RESULT SUBMISSION: \", resp_str)"
   ]
  },
  {
   "cell_type": "markdown",
   "metadata": {},
   "source": [
    "### 3.2 Correcting skewness "
   ]
  },
  {
   "cell_type": "code",
   "execution_count": 624,
   "metadata": {
    "ExecuteTime": {
     "end_time": "2020-05-23T14:46:33.702860Z",
     "start_time": "2020-05-23T14:46:33.670727Z"
    }
   },
   "outputs": [],
   "source": [
    "# detecting skewed variables \n",
    "\n",
    "def skewed_features(self, threshold=0.75, fix=False, return_series=True):\n",
    "\n",
    "        df = self\n",
    "        feature_skew = df.apply(\n",
    "            lambda x: skew(x)).sort_values(ascending=False)\n",
    "\n",
    "        if fix is True:\n",
    "            high_skew = feature_skew[feature_skew > threshold]\n",
    "            skew_index = high_skew.index\n",
    "            for feature in skew_index:\n",
    "                self = boxcox1p(\n",
    "                    df[feature], boxcox_normmax(df[feature] + 1))\n",
    "        if return_series is True:\n",
    "            return feature_skew\n",
    "        \n",
    "\n",
    "skewed_features_t = pd.DataFrame(skewed_features(df_if)).reset_index()\n",
    "skewed_features_t = skewed_features_t[(skewed_features_t[0]>0.75) | (skewed_features_t[0]<(-0.75))]\n",
    "\n",
    "def skewed_features(self, threshold=0.75, fix=False, return_series=True):\n",
    "\n",
    "        df = self\n",
    "        feature_skew = df.apply(\n",
    "            lambda x: skew(x)).sort_values(ascending=False)\n",
    "\n",
    "        if fix is True:\n",
    "            high_skew = feature_skew[feature_skew > threshold]\n",
    "            skew_index = high_skew.index\n",
    "            for feature in skew_index:\n",
    "                self = boxcox1p(\n",
    "                    df[feature], boxcox_normmax(df[feature] + 1))\n",
    "        if return_series is True:\n",
    "            return feature_skew\n",
    "        \n",
    "skewed_features_o = pd.DataFrame(skewed_features(dfo_if)).reset_index()\n",
    "skewed_features_o = skewed_features_o[(skewed_features_o[0]>0.75) | (skewed_features_o[0]<(-0.75))]"
   ]
  },
  {
   "cell_type": "code",
   "execution_count": 625,
   "metadata": {
    "ExecuteTime": {
     "end_time": "2020-05-23T14:46:34.497551Z",
     "start_time": "2020-05-23T14:46:34.293815Z"
    }
   },
   "outputs": [
    {
     "name": "stderr",
     "output_type": "stream",
     "text": [
      "/Users/lina/anaconda3/lib/python3.7/site-packages/numpy/core/_methods.py:195: RuntimeWarning: overflow encountered in multiply\n",
      "  x = um.multiply(x, x, out=x)\n",
      "/Users/lina/anaconda3/lib/python3.7/site-packages/numpy/core/_methods.py:199: RuntimeWarning: overflow encountered in reduce\n",
      "  ret = umr_sum(x, axis, dtype, out, keepdims)\n",
      "/Users/lina/anaconda3/lib/python3.7/site-packages/numpy/core/_methods.py:195: RuntimeWarning: overflow encountered in multiply\n",
      "  x = um.multiply(x, x, out=x)\n",
      "/Users/lina/anaconda3/lib/python3.7/site-packages/numpy/core/_methods.py:199: RuntimeWarning: overflow encountered in reduce\n",
      "  ret = umr_sum(x, axis, dtype, out, keepdims)\n",
      "/Users/lina/anaconda3/lib/python3.7/site-packages/ipykernel_launcher.py:11: SettingWithCopyWarning: \n",
      "A value is trying to be set on a copy of a slice from a DataFrame.\n",
      "Try using .loc[row_indexer,col_indexer] = value instead\n",
      "\n",
      "See the caveats in the documentation: https://pandas.pydata.org/pandas-docs/stable/user_guide/indexing.html#returning-a-view-versus-a-copy\n",
      "  # This is added back by InteractiveShellApp.init_path()\n",
      "/Users/lina/anaconda3/lib/python3.7/site-packages/ipykernel_launcher.py:11: SettingWithCopyWarning: \n",
      "A value is trying to be set on a copy of a slice from a DataFrame.\n",
      "Try using .loc[row_indexer,col_indexer] = value instead\n",
      "\n",
      "See the caveats in the documentation: https://pandas.pydata.org/pandas-docs/stable/user_guide/indexing.html#returning-a-view-versus-a-copy\n",
      "  # This is added back by InteractiveShellApp.init_path()\n",
      "/Users/lina/anaconda3/lib/python3.7/site-packages/ipykernel_launcher.py:11: SettingWithCopyWarning: \n",
      "A value is trying to be set on a copy of a slice from a DataFrame.\n",
      "Try using .loc[row_indexer,col_indexer] = value instead\n",
      "\n",
      "See the caveats in the documentation: https://pandas.pydata.org/pandas-docs/stable/user_guide/indexing.html#returning-a-view-versus-a-copy\n",
      "  # This is added back by InteractiveShellApp.init_path()\n",
      "/Users/lina/anaconda3/lib/python3.7/site-packages/ipykernel_launcher.py:11: SettingWithCopyWarning: \n",
      "A value is trying to be set on a copy of a slice from a DataFrame.\n",
      "Try using .loc[row_indexer,col_indexer] = value instead\n",
      "\n",
      "See the caveats in the documentation: https://pandas.pydata.org/pandas-docs/stable/user_guide/indexing.html#returning-a-view-versus-a-copy\n",
      "  # This is added back by InteractiveShellApp.init_path()\n",
      "/Users/lina/anaconda3/lib/python3.7/site-packages/ipykernel_launcher.py:11: SettingWithCopyWarning: \n",
      "A value is trying to be set on a copy of a slice from a DataFrame.\n",
      "Try using .loc[row_indexer,col_indexer] = value instead\n",
      "\n",
      "See the caveats in the documentation: https://pandas.pydata.org/pandas-docs/stable/user_guide/indexing.html#returning-a-view-versus-a-copy\n",
      "  # This is added back by InteractiveShellApp.init_path()\n",
      "/Users/lina/anaconda3/lib/python3.7/site-packages/ipykernel_launcher.py:11: SettingWithCopyWarning: \n",
      "A value is trying to be set on a copy of a slice from a DataFrame.\n",
      "Try using .loc[row_indexer,col_indexer] = value instead\n",
      "\n",
      "See the caveats in the documentation: https://pandas.pydata.org/pandas-docs/stable/user_guide/indexing.html#returning-a-view-versus-a-copy\n",
      "  # This is added back by InteractiveShellApp.init_path()\n",
      "/Users/lina/anaconda3/lib/python3.7/site-packages/ipykernel_launcher.py:11: SettingWithCopyWarning: \n",
      "A value is trying to be set on a copy of a slice from a DataFrame.\n",
      "Try using .loc[row_indexer,col_indexer] = value instead\n",
      "\n",
      "See the caveats in the documentation: https://pandas.pydata.org/pandas-docs/stable/user_guide/indexing.html#returning-a-view-versus-a-copy\n",
      "  # This is added back by InteractiveShellApp.init_path()\n",
      "/Users/lina/anaconda3/lib/python3.7/site-packages/ipykernel_launcher.py:11: SettingWithCopyWarning: \n",
      "A value is trying to be set on a copy of a slice from a DataFrame.\n",
      "Try using .loc[row_indexer,col_indexer] = value instead\n",
      "\n",
      "See the caveats in the documentation: https://pandas.pydata.org/pandas-docs/stable/user_guide/indexing.html#returning-a-view-versus-a-copy\n",
      "  # This is added back by InteractiveShellApp.init_path()\n",
      "/Users/lina/anaconda3/lib/python3.7/site-packages/ipykernel_launcher.py:11: SettingWithCopyWarning: \n",
      "A value is trying to be set on a copy of a slice from a DataFrame.\n",
      "Try using .loc[row_indexer,col_indexer] = value instead\n",
      "\n",
      "See the caveats in the documentation: https://pandas.pydata.org/pandas-docs/stable/user_guide/indexing.html#returning-a-view-versus-a-copy\n",
      "  # This is added back by InteractiveShellApp.init_path()\n"
     ]
    }
   ],
   "source": [
    "pt = PowerTransformer(method='yeo-johnson')\n",
    "\n",
    "for column in df_if:\n",
    "    if column in skewed_features_t[\"index\"].values:\n",
    "        pt.fit(df_if[[column]])\n",
    "        df[column]=pt.transform(df_if[[column]])\n",
    "        \n",
    "for column in dfo_if:\n",
    "    if column in skewed_features_o[\"index\"].values:\n",
    "        pt.fit(dfo_if[[column]])\n",
    "        dfo[column]=pt.transform(dfo_if[[column]])"
   ]
  },
  {
   "cell_type": "code",
   "execution_count": 477,
   "metadata": {
    "ExecuteTime": {
     "end_time": "2020-05-23T14:24:33.009165Z",
     "start_time": "2020-05-23T14:24:24.344172Z"
    }
   },
   "outputs": [
    {
     "name": "stdout",
     "output_type": "stream",
     "text": [
      "{'n_estimators': 1000}\n",
      "0.8499556168660374\n",
      "GINI DEVELOPMENT= 1.0\n",
      "KS= 0.9999999999999968\n",
      "RESULT SUBMISSION:  KS2 = 0.376176073716; GINI = 0.469355077219; GRADE = 8.914\n"
     ]
    }
   ],
   "source": [
    "X = df\n",
    "Xo = dfo\n",
    "\n",
    "fitted_model = gsearch.fit(X, y)\n",
    "pred_dev = gsearch.best_estimator_.predict_proba(X)[:,1]\n",
    "pred_oot  = gsearch.best_estimator_.predict_proba(Xo)[:,1]\n",
    "\n",
    "print( gsearch.best_params_)\n",
    "print( gsearch.best_score_)\n",
    "\n",
    "gini_score = 2*roc_auc_score(y, pred_dev)-1\n",
    "print (\"GINI DEVELOPMENT=\", gini_score)\n",
    "\n",
    "KS_score = KS(y,pred_dev)\n",
    "print(\"KS=\",KS_score)\n",
    "\n",
    "dfo_index = pd.DataFrame(dfo_with_nulls.index)\n",
    "prediction_with_indexes = pd.DataFrame(dfo.index)\n",
    "prediction_with_indexes[\"prediction\"] = pred_oot\n",
    "new_df = pd.merge(dfo_index,prediction_with_indexes,  left_on=0, right_on=0, how='left')\n",
    "new_df[\"prediction\"].fillna(0, inplace=True)\n",
    "pred_oot = new_df[\"prediction\"]\n",
    "\n",
    "dfo_with_nulls[\"id\"]=dfo_id\n",
    "dfo_with_nulls['pred'] = pred_oot\n",
    "\n",
    "dfo_tosend = dfo_with_nulls[list(['id','pred'])]\n",
    "i=1\n",
    "filename = \"student_sub\"+str(i)+\".csv\"\n",
    "dfo_tosend.to_csv(filename, sep=',')\n",
    "url = 'http://**'\n",
    "files = {'file': (filename, open(filename, 'rb'))}\n",
    "\n",
    "\"\"\"\n",
    "\n",
    "\"\"\"\n",
    "rsub = requests.post(url, files=files, auth=HTTPBasicAuth('****', '****'))\n",
    "resp_str = str(rsub.text)\n",
    "print (\"RESULT SUBMISSION: \", resp_str)"
   ]
  },
  {
   "cell_type": "markdown",
   "metadata": {},
   "source": [
    "### 3.3 One hot encoding"
   ]
  },
  {
   "cell_type": "code",
   "execution_count": 588,
   "metadata": {
    "ExecuteTime": {
     "end_time": "2020-05-23T14:41:17.696517Z",
     "start_time": "2020-05-23T14:41:17.672647Z"
    }
   },
   "outputs": [],
   "source": [
    "#df_dummies = pd.get_dummies(df, columns = df_ib.columns,drop_first=True)\n",
    "#dfo_dummies = pd.get_dummies(dfo, columns = df_ib.columns,drop_first=True)\n",
    "\n",
    "df_dummies = pd.get_dummies(df, columns = df_icn.columns, drop_first=True) \n",
    "dfo_dummies = pd.get_dummies(dfo, columns = df_icn.columns, drop_first=True) \n",
    "\n",
    "#df = pd.get_dummies(df, columns = df_ico.columns,drop_first=True)\n",
    "#dfo = pd.get_dummies(dfo, columns = df_ico.columns,drop_first=True)\n"
   ]
  },
  {
   "cell_type": "code",
   "execution_count": 589,
   "metadata": {
    "ExecuteTime": {
     "end_time": "2020-05-23T14:41:19.140922Z",
     "start_time": "2020-05-23T14:41:19.131458Z"
    }
   },
   "outputs": [],
   "source": [
    "Xo, X = dfo_dummies.align(df_dummies, join='inner', axis=1)"
   ]
  },
  {
   "cell_type": "code",
   "execution_count": 590,
   "metadata": {
    "ExecuteTime": {
     "end_time": "2020-05-23T14:41:41.748290Z",
     "start_time": "2020-05-23T14:41:20.021964Z"
    }
   },
   "outputs": [
    {
     "name": "stdout",
     "output_type": "stream",
     "text": [
      "{'n_estimators': 1000}\n",
      "0.0\n",
      "GINI DEVELOPMENT= 1.0\n",
      "KS= 0.9999999999999968\n",
      "RESULT SUBMISSION:  KS2 = 0.362224928142; GINI = 0.458978363941; GRADE = 8.584\n"
     ]
    }
   ],
   "source": [
    "fitted_model = gsearch.fit(X, y)\n",
    "pred_dev = gsearch.best_estimator_.predict_proba(X)[:,1]\n",
    "pred_oot  = gsearch.best_estimator_.predict_proba(Xo)[:,1]\n",
    "\n",
    "print( gsearch.best_params_)\n",
    "print( gsearch.best_score_)\n",
    "\n",
    "gini_score = 2*roc_auc_score(y, pred_dev)-1\n",
    "print (\"GINI DEVELOPMENT=\", gini_score)\n",
    "\n",
    "KS_score = KS(y,pred_dev)\n",
    "print(\"KS=\",KS_score)\n",
    "\n",
    "dfo_index = pd.DataFrame(dfo_with_nulls.index)\n",
    "prediction_with_indexes = pd.DataFrame(dfo.index)\n",
    "prediction_with_indexes[\"prediction\"] = pred_oot\n",
    "new_df = pd.merge(dfo_index,prediction_with_indexes,  left_on=0, right_on=0, how='left')\n",
    "new_df[\"prediction\"].fillna(0, inplace=True)\n",
    "pred_oot = new_df[\"prediction\"]\n",
    "\n",
    "dfo_with_nulls[\"id\"]=dfo_id\n",
    "dfo_with_nulls['pred'] = pred_oot\n",
    "\n",
    "dfo_tosend = dfo_with_nulls[list(['id','pred'])]\n",
    "i=1\n",
    "filename = \"student_sub\"+str(i)+\".csv\"\n",
    "dfo_tosend.to_csv(filename, sep=',')\n",
    "url = '****'\n",
    "files = {'file': (filename, open(filename, 'rb'))}\n",
    "\n",
    "\"\"\"\n",
    "To compete in this challenge, please create an user at my teaching website:\n",
    "and replace below where it says:\n",
    "* my_user_name_goes_here\n",
    "* my_password_goes_here\n",
    "\"\"\"\n",
    "rsub = requests.post(url, files=files, auth=HTTPBasicAuth('****', '****'))\n",
    "resp_str = str(rsub.text)\n",
    "print (\"RESULT SUBMISSION: \", resp_str)"
   ]
  },
  {
   "cell_type": "markdown",
   "metadata": {},
   "source": [
    "## 4. Feature Selection : Genetic Algorithm"
   ]
  },
  {
   "cell_type": "code",
   "execution_count": 626,
   "metadata": {
    "ExecuteTime": {
     "end_time": "2020-05-23T14:46:40.822844Z",
     "start_time": "2020-05-23T14:46:40.818650Z"
    }
   },
   "outputs": [],
   "source": [
    "df[\"ob_target\"] = y #let's add back y to our dataset as it is required for the algorithm"
   ]
  },
  {
   "cell_type": "markdown",
   "metadata": {},
   "source": [
    "Using script provided by professor"
   ]
  },
  {
   "cell_type": "code",
   "execution_count": 627,
   "metadata": {
    "ExecuteTime": {
     "end_time": "2020-05-23T14:46:41.607766Z",
     "start_time": "2020-05-23T14:46:41.582430Z"
    }
   },
   "outputs": [
    {
     "name": "stdout",
     "output_type": "stream",
     "text": [
      "ib_var_1 is input binary\n",
      "ib_var_2 is input binary\n",
      "ib_var_3 is input binary\n",
      "ib_var_4 is input binary\n",
      "ib_var_5 is input binary\n",
      "ib_var_6 is input binary\n",
      "ib_var_7 is input binary\n",
      "ib_var_8 is input binary\n",
      "ib_var_9 is input binary\n",
      "ib_var_10 is input binary\n",
      "ib_var_11 is input binary\n",
      "ib_var_12 is input binary\n",
      "ib_var_13 is input binary\n",
      "ib_var_14 is input binary\n",
      "ib_var_15 is input binary\n",
      "ib_var_16 is input binary\n",
      "ib_var_17 is input binary\n",
      "ib_var_18 is input binary\n",
      "ib_var_19 is input binary\n",
      "ib_var_20 is input binary\n",
      "ib_var_21 is input binary\n",
      "icn_var_22 is input categorical nominal\n",
      "icn_var_23 is input categorical nominal\n",
      "icn_var_24 is input categorical nominal\n",
      "ico_var_25 is input categorical ordinal\n",
      "ico_var_26 is input categorical ordinal\n",
      "ico_var_27 is input categorical ordinal\n",
      "ico_var_28 is input categorical ordinal\n",
      "ico_var_29 is input categorical ordinal\n",
      "ico_var_30 is input categorical ordinal\n",
      "ico_var_31 is input categorical ordinal\n",
      "ico_var_32 is input categorical ordinal\n",
      "ico_var_33 is input categorical ordinal\n",
      "ico_var_34 is input categorical ordinal\n",
      "ico_var_35 is input categorical ordinal\n",
      "ico_var_36 is input categorical ordinal\n",
      "ico_var_37 is input categorical ordinal\n",
      "ico_var_38 is input categorical ordinal\n",
      "ico_var_39 is input categorical ordinal\n",
      "ico_var_40 is input categorical ordinal\n",
      "ico_var_41 is input categorical ordinal\n",
      "ico_var_42 is input categorical ordinal\n",
      "ico_var_43 is input categorical ordinal\n",
      "ico_var_44 is input categorical ordinal\n",
      "ico_var_45 is input categorical ordinal\n",
      "ico_var_46 is input categorical ordinal\n",
      "ico_var_47 is input categorical ordinal\n",
      "ico_var_48 is input categorical ordinal\n",
      "ico_var_49 is input categorical ordinal\n",
      "ico_var_50 is input categorical ordinal\n",
      "ico_var_51 is input categorical ordinal\n",
      "ico_var_52 is input categorical ordinal\n",
      "ico_var_53 is input categorical ordinal\n",
      "ico_var_54 is input categorical ordinal\n",
      "ico_var_55 is input categorical ordinal\n",
      "ico_var_56 is input categorical ordinal\n",
      "ico_var_57 is input categorical ordinal\n",
      "ico_var_58 is input categorical ordinal\n",
      "ico_var_59 is input categorical ordinal\n",
      "ico_var_60 is input categorical ordinal\n",
      "ico_var_61 is input categorical ordinal\n",
      "ico_var_62 is input categorical ordinal\n",
      "ico_var_63 is input categorical ordinal\n",
      "ico_var_64 is input categorical ordinal\n",
      "if_var_65 is input numerical continuos (input float)\n",
      "if_var_66 is input numerical continuos (input float)\n",
      "if_var_67 is input numerical continuos (input float)\n",
      "if_var_68 is input numerical continuos (input float)\n",
      "if_var_69 is input numerical continuos (input float)\n",
      "if_var_70 is input numerical continuos (input float)\n",
      "if_var_71 is input numerical continuos (input float)\n",
      "if_var_72 is input numerical continuos (input float)\n",
      "if_var_73 is input numerical continuos (input float)\n",
      "if_var_74 is input numerical continuos (input float)\n",
      "if_var_75 is input numerical continuos (input float)\n",
      "if_var_76 is input numerical continuos (input float)\n",
      "if_var_77 is input numerical continuos (input float)\n",
      "if_var_78 is input numerical continuos (input float)\n",
      "if_var_79 is input numerical continuos (input float)\n",
      "if_var_80 is input numerical continuos (input float)\n",
      "if_var_81 is input numerical continuos (input float)\n"
     ]
    }
   ],
   "source": [
    "in_model = []\n",
    "list_ib = set()  #input binary\n",
    "list_icn = set() #input categorical nominal\n",
    "list_ico = set() #input categorical ordinal\n",
    "list_if = set()  #input numerical continuos (input float)\n",
    "list_inputs = set()\n",
    "output_var = 'ob_target'\n",
    "\n",
    "for var_name in df.columns:\n",
    "    if re.search('^ib_',var_name):\n",
    "        list_inputs.add(var_name)      \n",
    "        list_ib.add(var_name)\n",
    "        print (var_name,\"is input binary\")\n",
    "    elif re.search('^icn_',var_name):\n",
    "        list_inputs.add(var_name)      \n",
    "        list_icn.add(var_name)\n",
    "        print (var_name,\"is input categorical nominal\")\n",
    "    elif re.search('^ico_',var_name):\n",
    "        list_inputs.add(var_name)      \n",
    "        list_ico.add(var_name)\n",
    "        print (var_name,\"is input categorical ordinal\")\n",
    "    elif re.search('^if_',var_name):\n",
    "        list_inputs.add(var_name)      \n",
    "        list_if.add(var_name)\n",
    "        print (var_name,\"is input numerical continuos (input float)\")\n",
    "    elif re.search('^ob_',var_name):\n",
    "        output_var = var_name\n",
    "    else:\n",
    "        print (\"ERROR: unable to identify the type of:\", var_name)\n",
    "        "
   ]
  },
  {
   "cell_type": "code",
   "execution_count": 628,
   "metadata": {
    "ExecuteTime": {
     "end_time": "2020-05-23T14:46:42.479612Z",
     "start_time": "2020-05-23T14:46:42.464047Z"
    }
   },
   "outputs": [
    {
     "name": "stderr",
     "output_type": "stream",
     "text": [
      "/Users/lina/anaconda3/lib/python3.7/site-packages/deap/creator.py:141: RuntimeWarning: A class named 'FitnessMax' has already been created and it will be overwritten. Consider deleting previous creation of that class or rename it.\n",
      "  RuntimeWarning)\n",
      "/Users/lina/anaconda3/lib/python3.7/site-packages/deap/creator.py:141: RuntimeWarning: A class named 'Individual' has already been created and it will be overwritten. Consider deleting previous creation of that class or rename it.\n",
      "  RuntimeWarning)\n"
     ]
    }
   ],
   "source": [
    "#####\n",
    "#SETING UP THE GENETIC ALGORITHM and CALCULATING STARTING POOL (STARTING CANDIDATE POPULATION)\n",
    "#####\n",
    "creator.create(\"FitnessMax\", base.Fitness, weights=(1.0,))\n",
    "creator.create(\"Individual\", list, fitness=creator.FitnessMax)\n",
    "toolbox = base.Toolbox()\n",
    "toolbox.register(\"attr_bool\", random.randint, 0, 1)\n",
    "toolbox.register(\"individual\", tools.initRepeat, creator.Individual, toolbox.attr_bool, n=len(list_inputs))\n",
    "toolbox.register(\"population\", tools.initRepeat, list, toolbox.individual)\n",
    "def evalOneMax(individual):\n",
    "    return sum(individual),\n",
    "\n",
    "toolbox.register(\"evaluate\", evalOneMax)\n",
    "toolbox.register(\"mate\", tools.cxTwoPoint)\n",
    "toolbox.register(\"mutate\", tools.mutFlipBit, indpb=0.05)\n",
    "toolbox.register(\"select\", tools.selTournament, tournsize=3)\n",
    "\n",
    "NPOPSIZE = 50 #RANDOM STARTING POOL SIZE\n",
    "population = toolbox.population(n=NPOPSIZE)\n"
   ]
  },
  {
   "cell_type": "markdown",
   "metadata": {},
   "source": [
    "Running algorithm with a RF classifier"
   ]
  },
  {
   "cell_type": "code",
   "execution_count": 629,
   "metadata": {
    "ExecuteTime": {
     "end_time": "2020-05-23T14:46:56.508153Z",
     "start_time": "2020-05-23T14:46:43.241281Z"
    }
   },
   "outputs": [],
   "source": [
    "#####\n",
    "#ASSESSING GINI ON THE STARTING POOL\n",
    "#####\n",
    "dic_gini={}\n",
    "for i in range(np.shape(population)[0]): \n",
    "\n",
    "    # TRASLATING DNA INTO LIST OF VARIABLES (1-81)\n",
    "    var_model = []    \n",
    "    for j in range(np.shape(population)[0]): \n",
    "        if (population[i])[j]==1:\n",
    "            var_model.append(list(list_inputs)[j])\n",
    "\n",
    "    # ASSESSING GINI INDEX FOR EACH INVIVIDUAL IN THE INITIAL POOL \n",
    "            \n",
    "    X_train=df[var_model]\n",
    "    Y_train=df[output_var]\n",
    "\n",
    "    ######\n",
    "    # CHANGE_HERE - START: YOU ARE VERY LIKELY USING A DIFFERENT TECHNIQUE BY NOW. SO CHANGE TO YOURS.\n",
    "    #####             \n",
    "    rf = RandomForestClassifier(random_state=1)\n",
    "    model=rf.fit(X_train,Y_train)   \n",
    "    Y_predict=model.predict(X_train)\n",
    "    ######\n",
    "    # CHANGE_HERE - END: YOU ARE VERY LIKELY USING A DIFFERENT TECHNIQUE BY NOW. SO CHANGE TO YOURS.\n",
    "    #####             \n",
    "\n",
    "\n",
    "    ######\n",
    "    # CHANGE_HERE - START: HERE IT USES THE DEVELOPMENT GINI TO SELECT VARIABLES, YOU SHOULD A DIFFERENT GINI. EITHER THE OOT GINI OR THE SQRT(DEV_GINI*OOT_GINI)\n",
    "    #####                \n",
    "    fpr, tpr, thresholds = metrics.roc_curve(Y_train, Y_predict)\n",
    "    auc = metrics.auc(fpr, tpr)\n",
    "    gini_power = abs(2*auc-1)\n",
    "    ######\n",
    "    # CHANGE_HERE - END: HERE IT USES THE DEVELOPMENT GINI TO SELECT VARIABLES, YOU SHOULD A DIFFERENT GINI. EITHER THE OOT GINI OR THE SQRT(DEV_GINI*OOT_GINI)\n",
    "    #####                \n",
    "    \n",
    "    gini=str(gini_power)+\";\"+str(population[j]).replace('[','').replace(', ','').replace(']','')\n",
    "    dic_gini[gini]=population[j]   \n",
    "list_gini=sorted(dic_gini.keys(),reverse=True)"
   ]
  },
  {
   "cell_type": "code",
   "execution_count": 630,
   "metadata": {
    "ExecuteTime": {
     "end_time": "2020-05-23T14:47:25.127115Z",
     "start_time": "2020-05-23T14:47:09.039806Z"
    }
   },
   "outputs": [
    {
     "name": "stdout",
     "output_type": "stream",
     "text": [
      "loop  1\n",
      "sum_current_gini= 26.988636363636363 sum_current_gini_1= 0.0 sum_current_gini_2= 0.0\n",
      "loop  2\n",
      "sum_current_gini= 35.977272727272734 sum_current_gini_1= 26.988636363636363 sum_current_gini_2= 0.0\n",
      "loop  3\n",
      "sum_current_gini= 40.977272727272734 sum_current_gini_1= 35.977272727272734 sum_current_gini_2= 26.988636363636363\n",
      "loop  4\n",
      "sum_current_gini= 45.977272727272734 sum_current_gini_1= 40.977272727272734 sum_current_gini_2= 35.977272727272734\n",
      "loop  5\n",
      "sum_current_gini= 50.0 sum_current_gini_1= 45.977272727272734 sum_current_gini_2= 40.977272727272734\n",
      "loop  6\n",
      "sum_current_gini= 50.0 sum_current_gini_1= 50.0 sum_current_gini_2= 45.977272727272734\n",
      "loop  7\n",
      "sum_current_gini= 50.0 sum_current_gini_1= 50.0 sum_current_gini_2= 50.0\n",
      "feature  1 : ico_var_56\n",
      "feature  2 : if_var_67\n",
      "feature  3 : if_var_75\n",
      "feature  4 : ib_var_3\n",
      "feature  5 : if_var_70\n",
      "feature  6 : ico_var_44\n",
      "feature  7 : ico_var_29\n",
      "feature  8 : ib_var_7\n",
      "feature  9 : ico_var_58\n",
      "feature  10 : ib_var_9\n",
      "feature  11 : ib_var_1\n",
      "feature  12 : ico_var_38\n",
      "feature  13 : ib_var_14\n",
      "feature  14 : if_var_76\n",
      "feature  15 : ico_var_54\n",
      "feature  16 : if_var_71\n",
      "feature  17 : ib_var_11\n",
      "feature  18 : ib_var_4\n",
      "feature  19 : ico_var_40\n",
      "feature  20 : ico_var_62\n",
      "feature  21 : if_var_79\n",
      "feature  22 : if_var_81\n",
      "feature  23 : icn_var_23\n",
      "feature  24 : icn_var_24\n",
      "feature  25 : ib_var_15\n",
      "feature  26 : ico_var_48\n",
      "feature  27 : if_var_72\n",
      "feature  28 : ib_var_20\n",
      "feature  29 : ib_var_10\n",
      "feature  30 : if_var_65\n",
      "feature  31 : ico_var_45\n",
      "feature  32 : ico_var_64\n",
      "feature  33 : ico_var_51\n",
      "feature  34 : ico_var_28\n",
      "feature  35 : if_var_74\n",
      "feature  36 : ib_var_16\n",
      "feature  37 : ico_var_41\n",
      "feature  38 : ib_var_19\n",
      "feature  39 : ib_var_12\n",
      "feature  40 : ico_var_36\n",
      "feature  41 : ico_var_27\n",
      "feature  42 : ib_var_6\n",
      "feature  43 : ib_var_5\n",
      "feature  44 : ib_var_2\n",
      "feature  45 : ico_var_42\n",
      "feature  46 : ico_var_63\n",
      "feature  47 : ico_var_55\n",
      "gini:  1.0\n"
     ]
    }
   ],
   "source": [
    "#####\n",
    "#GENETIC ALGORITHM MAIN LOOP - START\n",
    "# - ITERATING MANY TIMES UNTIL NO IMPROVMENT HAPPENS IN ORDER TO FIND THE OPTIMAL SET OF CHARACTERISTICS (VARIABLES)\n",
    "#####\n",
    "sum_current_gini=0.0\n",
    "sum_current_gini_1=0.0\n",
    "sum_current_gini_2=0.0\n",
    "first=0    \n",
    "OK = 1\n",
    "a=0\n",
    "while OK:  #REPEAT UNTIL IT DO NOT IMPROVE, AT LEAST A LITLE, THE GINI IN 2 GENERATIONS\n",
    "    a=a+1\n",
    "    print ('loop ', a)\n",
    "    OK=0\n",
    "\n",
    "    ####\n",
    "    # GENERATING OFFSPRING - START\n",
    "    ####\n",
    "    offspring = algorithms.varAnd(population, toolbox, cxpb=0.5, mutpb=0.1) #CROSS-X PROBABILITY = 50%, MUTATION PROBABILITY=10%\n",
    "    fits = toolbox.map(toolbox.evaluate, offspring)\n",
    "    for fit, ind in zip(fits, offspring):\n",
    "        ind.fitness.values = fit\n",
    "    population =toolbox.select(offspring, k=len(population))\n",
    "    ####\n",
    "    # GENERATING OFFSPRING - END\n",
    "    ####\n",
    "\n",
    "    sum_current_gini_2=sum_current_gini_1\n",
    "    sum_current_gini_1=sum_current_gini\n",
    "    sum_current_gini=0.0\n",
    "\n",
    "    #####\n",
    "    #ASSESSING GINI ON THE OFFSPRING - START\n",
    "    #####\n",
    "    for j in range(np.shape(population)[0]): \n",
    "        if population[j] not in dic_gini.values(): \n",
    "            var_model = [] \n",
    "            for i in range(np.shape(population)[0]): \n",
    "                if (population[j])[i]==1:\n",
    "                    var_model.append(list(list_inputs)[i])\n",
    "            \n",
    "            X_train=df[var_model]\n",
    "            Y_train=df[output_var]\n",
    "            \n",
    "            ######\n",
    "            # CHANGE_HERE - START: YOU ARE VERY LIKELY USING A DIFFERENT TECHNIQUE BY NOW. SO CHANGE TO YOURS.\n",
    "            #####            \n",
    "            rf = RandomForestClassifier(random_state=1)\n",
    "            model=rf.fit(X_train,Y_train)   \n",
    "            Y_predict=model.predict(X_train)\n",
    "            ######\n",
    "            # CHANGE_HERE - END: YOU ARE VERY LIKELY USING A DIFFERENT TECHNIQUE BY NOW. SO CHANGE TO YOURS.\n",
    "            #####            \n",
    "                       \n",
    "            \n",
    "            ######\n",
    "            # CHANGE_HERE - START: HERE IT USES THE DEVELOPMENT GINI TO SELECT VARIABLES, YOU SHOULD A DIFFERENT GINI. EITHER THE OOT GINI OR THE SQRT(DEV_GINI*OOT_GINI)\n",
    "            #####                       \n",
    "            fpr, tpr, thresholds = metrics.roc_curve(Y_train, Y_predict)\n",
    "            auc = metrics.auc(fpr, tpr)\n",
    "            gini_power = abs(2*auc-1)\n",
    "            ######\n",
    "            # CHANGE_HERE - END: HERE IT USES THE DEVELOPMENT GINI TO SELECT VARIABLES, YOU SHOULD A DIFFERENT GINI. EITHER THE OOT GINI OR THE SQRT(DEV_GINI*OOT_GINI)\n",
    "            #####                       \n",
    "           \n",
    "            gini=str(gini_power)+\";\"+str(population[j]).replace('[','').replace(', ','').replace(']','')\n",
    "            dic_gini[gini]=population[j]  \n",
    "    #####\n",
    "    #ASSESSING GINI ON THE OFFSPRING - END\n",
    "    #####\n",
    "\n",
    "    #####\n",
    "    #SELECTING THE BEST FITTED AMONG ALL EVER CREATED POPULATION AND CURRENT OFFSPRING - START\n",
    "    #####           \n",
    "    list_gini=sorted(dic_gini.keys(),reverse=True)\n",
    "    population=[]\n",
    "    for i in list_gini[:NPOPSIZE]:\n",
    "        population.append(dic_gini[i])\n",
    "        gini=float(i.split(';')[0])\n",
    "        sum_current_gini+=gini\n",
    "    #####\n",
    "    #SELECTING THE BEST FITTED AMONG ALL EVER CREATED POPULATION AND CURRENT OFFSPRING - END\n",
    "    #####           \n",
    "      \n",
    "    #HAS IT IMPROVED AT LEAST A LITLE THE GINI IN THE LAST 2 GENERATIONS\n",
    "    print ('sum_current_gini=', sum_current_gini, 'sum_current_gini_1=', sum_current_gini_1, 'sum_current_gini_2=', sum_current_gini_2)\n",
    "    if(sum_current_gini>sum_current_gini_1+0.0001 or sum_current_gini>sum_current_gini_2+0.0001):\n",
    "        OK=1\n",
    "#####\n",
    "#GENETIC ALGORITHM MAIN LOOP - END\n",
    "#####\n",
    "\n",
    "\n",
    "gini_max=list_gini[0]        \n",
    "gini=float(gini_max.split(';')[0])\n",
    "features=gini_max.split(';')[1]\n",
    "\n",
    "\n",
    "####\n",
    "# PRINTING OUT THE LIST OF FEATURES\n",
    "#####\n",
    "f=0\n",
    "list_input=[] #empty list that will give us the features selected by the algorithm to use them in our model\n",
    "for i in range(len(features)):\n",
    "    if features[i]=='1':\n",
    "        f+=1\n",
    "        print ('feature ', f, ':', list(list_inputs)[i])\n",
    "        list_input.append(list(list_inputs)[i])\n",
    "print ('gini: ', gini)\n"
   ]
  },
  {
   "cell_type": "code",
   "execution_count": 631,
   "metadata": {
    "ExecuteTime": {
     "end_time": "2020-05-23T14:47:27.726297Z",
     "start_time": "2020-05-23T14:47:27.720518Z"
    }
   },
   "outputs": [],
   "source": [
    "df = df.drop(\"ob_target\", axis=1) #let's drop the target one more time"
   ]
  },
  {
   "cell_type": "code",
   "execution_count": 632,
   "metadata": {
    "ExecuteTime": {
     "end_time": "2020-05-23T14:47:30.225553Z",
     "start_time": "2020-05-23T14:47:30.212743Z"
    }
   },
   "outputs": [],
   "source": [
    "#using intersection of the list we created , lets do feature selection with the features selected by the algorithm\n",
    "df = df[df.columns.intersection(list_input)]\n",
    "dfo = dfo[dfo.columns.intersection(list_input)]\n",
    "dfo_with_nulls = dfo_with_nulls[dfo_with_nulls.columns.intersection(list_input)]"
   ]
  },
  {
   "cell_type": "code",
   "execution_count": 633,
   "metadata": {
    "ExecuteTime": {
     "end_time": "2020-05-23T14:47:30.754248Z",
     "start_time": "2020-05-23T14:47:30.748483Z"
    }
   },
   "outputs": [],
   "source": [
    "#And align to make sure both X and Xo have the same columns\n",
    "Xo, X = dfo.align(df, join='inner', axis=1)"
   ]
  },
  {
   "cell_type": "code",
   "execution_count": 634,
   "metadata": {
    "ExecuteTime": {
     "end_time": "2020-05-23T14:47:52.587737Z",
     "start_time": "2020-05-23T14:47:31.288714Z"
    }
   },
   "outputs": [
    {
     "name": "stdout",
     "output_type": "stream",
     "text": [
      "{'n_estimators': 1000}\n",
      "0.0\n",
      "GINI DEVELOPMENT= 1.0\n",
      "KS= 0.9999999999999968\n",
      "RESULT SUBMISSION:  KS2 = 0.376178384273; GINI = 0.480022920729; GRADE = 8.914\n"
     ]
    }
   ],
   "source": [
    "#Let's fit and predict as usual\n",
    "fitted_model = gsearch.fit(X, y)\n",
    "pred_dev = gsearch.best_estimator_.predict_proba(X)[:,1]\n",
    "pred_oot  = gsearch.best_estimator_.predict_proba(Xo)[:,1]\n",
    "\n",
    "print( gsearch.best_params_)\n",
    "print( gsearch.best_score_)\n",
    "\n",
    "gini_score = 2*roc_auc_score(y, pred_dev)-1\n",
    "print (\"GINI DEVELOPMENT=\", gini_score)\n",
    "\n",
    "KS_score = KS(y,pred_dev)\n",
    "print(\"KS=\",KS_score)\n",
    "\n",
    "dfo_index = pd.DataFrame(dfo_with_nulls.index)\n",
    "prediction_with_indexes = pd.DataFrame(dfo.index)\n",
    "prediction_with_indexes[\"prediction\"] = pred_oot\n",
    "new_df = pd.merge(dfo_index,prediction_with_indexes,  left_on=0, right_on=0, how='left')\n",
    "new_df[\"prediction\"].fillna(0, inplace=True)\n",
    "pred_oot = new_df[\"prediction\"]\n",
    "\n",
    "dfo_with_nulls[\"id\"]=dfo_id\n",
    "dfo_with_nulls['pred'] = pred_oot\n",
    "\n",
    "dfo_tosend = dfo_with_nulls[list(['id','pred'])]\n",
    "i=1\n",
    "filename = \"student_sub\"+str(i)+\".csv\"\n",
    "dfo_tosend.to_csv(filename, sep=',')\n",
    "url = '****'\n",
    "files = {'file': (filename, open(filename, 'rb'))}\n",
    "\n",
    "\"\"\"\n",
    "To compete in this challenge, please create an user at my teaching website:\n",
    "and replace below where it says:\n",
    "* my_user_name_goes_here\n",
    "* my_password_goes_here\n",
    "\"\"\"\n",
    "rsub = requests.post(url, files=files, auth=HTTPBasicAuth('****', '****'))\n",
    "resp_str = str(rsub.text)\n",
    "print (\"RESULT SUBMISSION: \", resp_str)"
   ]
  },
  {
   "cell_type": "markdown",
   "metadata": {},
   "source": [
    "## 5. Oversampling using Smote ###"
   ]
  },
  {
   "cell_type": "code",
   "execution_count": 635,
   "metadata": {
    "ExecuteTime": {
     "end_time": "2020-05-23T14:48:58.161389Z",
     "start_time": "2020-05-23T14:48:58.134586Z"
    }
   },
   "outputs": [],
   "source": [
    "# Define the resampling method\n",
    "method = SMOTE()\n",
    "\n",
    "# Create the resampled feature set\n",
    "X_resampled, y_resampled = method.fit_sample(X,y)"
   ]
  },
  {
   "cell_type": "code",
   "execution_count": 636,
   "metadata": {
    "ExecuteTime": {
     "end_time": "2020-05-23T14:49:40.916594Z",
     "start_time": "2020-05-23T14:49:08.142924Z"
    }
   },
   "outputs": [
    {
     "name": "stdout",
     "output_type": "stream",
     "text": [
      "{'n_estimators': 1500}\n",
      "0.8750660959963286\n",
      "GINI DEVELOPMENT= 1.0\n",
      "KS= 0.9999999999999968\n",
      "RESULT SUBMISSION:  KS2 = 0.337341380235; GINI = 0.444719914232; GRADE = 7.994\n"
     ]
    }
   ],
   "source": [
    "fitted_model = gsearch.fit(X_resampled, y_resampled)\n",
    "pred_dev = gsearch.best_estimator_.predict_proba(X_resampled)[:,1]\n",
    "pred_oot  = gsearch.best_estimator_.predict_proba(Xo)[:,1]\n",
    "\n",
    "print( gsearch.best_params_)\n",
    "print( gsearch.best_score_)\n",
    "\n",
    "gini_score = 2*roc_auc_score(y_resampled, pred_dev)-1\n",
    "print (\"GINI DEVELOPMENT=\", gini_score)\n",
    "\n",
    "KS_score = KS(y_resampled,pred_dev)\n",
    "print(\"KS=\",KS_score)\n",
    "\n",
    "dfo_index = pd.DataFrame(dfo_with_nulls.index)\n",
    "prediction_with_indexes = pd.DataFrame(dfo.index)\n",
    "prediction_with_indexes[\"prediction\"] = pred_oot\n",
    "new_df = pd.merge(dfo_index,prediction_with_indexes,  left_on=0, right_on=0, how='left')\n",
    "new_df[\"prediction\"].fillna(0, inplace=True)\n",
    "pred_oot = new_df[\"prediction\"]\n",
    "\n",
    "dfo_with_nulls[\"id\"]=dfo_id\n",
    "dfo_with_nulls['pred'] = pred_oot\n",
    "\n",
    "dfo_tosend = dfo_with_nulls[list(['id','pred'])]\n",
    "i=1\n",
    "filename = \"student_sub\"+str(i)+\".csv\"\n",
    "dfo_tosend.to_csv(filename, sep=',')\n",
    "url = '****'\n",
    "files = {'file': (filename, open(filename, 'rb'))}\n",
    "\n",
    "\"\"\"\n",
    "To compete in this challenge, please create an user at my teaching website:\n",
    "and replace below where it says:\n",
    "* my_user_name_goes_here\n",
    "* my_password_goes_here\n",
    "\"\"\"\n",
    "rsub = requests.post(url, files=files, auth=HTTPBasicAuth('****', '****'))\n",
    "resp_str = str(rsub.text)\n",
    "print (\"RESULT SUBMISSION: \", resp_str)"
   ]
  },
  {
   "cell_type": "markdown",
   "metadata": {
    "ExecuteTime": {
     "end_time": "2020-05-22T22:55:07.859038Z",
     "start_time": "2020-05-22T22:55:07.852561Z"
    }
   },
   "source": [
    "# 6. Putting everything on a pipeline"
   ]
  },
  {
   "cell_type": "markdown",
   "metadata": {},
   "source": [
    "### 6.1 Pipeline with optimal hyperparameters and no SMOTE"
   ]
  },
  {
   "cell_type": "code",
   "execution_count": 644,
   "metadata": {
    "ExecuteTime": {
     "end_time": "2020-05-23T15:05:03.463756Z",
     "start_time": "2020-05-23T15:03:35.493676Z"
    }
   },
   "outputs": [
    {
     "name": "stdout",
     "output_type": "stream",
     "text": [
      "0.0\n",
      "{'rf__min_samples_leaf': 1, 'rf__n_estimators': 10000}\n"
     ]
    }
   ],
   "source": [
    "# Tune only for the count vectorizer parameters\n",
    "#smote_rf = Pipeline([('smote', SMOTE()),\n",
    "\n",
    "smote_rf = Pipeline([ \n",
    "                      ('rf', RandomForestClassifier(criterion = 'entropy', \n",
    "                                #n_estimators = 100,\n",
    "                                #max_samples = 0.7,\n",
    "                                oob_score=True,\n",
    "                                #max_depth = 20, \n",
    "                                min_samples_split = 2, \n",
    "                                #min_samples_leaf = 0.0001,\n",
    "                                #max_leaf_nodes = 200,\n",
    "                                bootstrap = True,\n",
    "                                max_features='log2',\n",
    "                                #min_impurity_decrease = 0.0001,\n",
    "                                random_state = 21,\n",
    "                                class_weight = 'balanced')), ])\n",
    "\n",
    "from sklearn.model_selection import GridSearchCV\n",
    "#'smote__sampling_strategy':[0.01,0.1,0.2],\n",
    "\n",
    "parameters = {\n",
    "              'rf__n_estimators':[10000],\n",
    "               'rf__min_samples_leaf':[1],\n",
    "                 }\n",
    "#smote__sampling_strategy':[0.01],\n",
    "gs_clf = GridSearchCV(smote_rf, \n",
    "                       param_grid = parameters, \n",
    "                       scoring=my_func,\n",
    "                       n_jobs=5,\n",
    "                       cv=5,\n",
    "                       refit = True,\n",
    "                       return_train_score = True)\n",
    "gs_clf = gs_clf.fit(X,y)\n",
    "print(gs_clf.best_score_)\n",
    "print(gs_clf.best_params_)\n"
   ]
  },
  {
   "cell_type": "code",
   "execution_count": 645,
   "metadata": {
    "ExecuteTime": {
     "end_time": "2020-05-23T15:05:21.788786Z",
     "start_time": "2020-05-23T15:05:13.922568Z"
    }
   },
   "outputs": [
    {
     "name": "stdout",
     "output_type": "stream",
     "text": [
      "KS= 0.999999999999997\n",
      "RESULT SUBMISSION:  KS2 = 0.395833140787; GINI = 0.494102302239; GRADE = 9.38\n"
     ]
    }
   ],
   "source": [
    "pred_dev = gs_clf.best_estimator_.predict_proba(X)[:,1]\n",
    "pred_oot  = gs_clf.best_estimator_.predict_proba(Xo)[:,1]\n",
    "KS_score = KS(y,pred_dev)\n",
    "print(\"KS=\",KS_score)\n",
    "\n",
    "dfo_index = pd.DataFrame(dfo_with_nulls.index)\n",
    "prediction_with_indexes = pd.DataFrame(dfo.index)\n",
    "prediction_with_indexes[\"prediction\"] = pred_oot\n",
    "new_df = pd.merge(dfo_index,prediction_with_indexes,  left_on=0, right_on=0, how='left')\n",
    "new_df[\"prediction\"].fillna(0, inplace=True)\n",
    "pred_oot = new_df[\"prediction\"]\n",
    "\n",
    "dfo_with_nulls[\"id\"]=dfo_id\n",
    "dfo_with_nulls['pred'] = pred_oot\n",
    "\n",
    "dfo_tosend = dfo_with_nulls[list(['id','pred'])]\n",
    "i=1\n",
    "filename = \"student_sub\"+str(i)+\".csv\"\n",
    "dfo_tosend.to_csv(filename, sep=',')\n",
    "url = '****'\n",
    "files = {'file': (filename, open(filename, 'rb'))}\n",
    "\n",
    "\"\"\"\n",
    "To compete in this challenge, please create an user at my teaching website:\n",
    "and replace below where it says:\n",
    "* my_user_name_goes_here\n",
    "* my_password_goes_here\n",
    "\"\"\"\n",
    "rsub = requests.post(url, files=files, auth=HTTPBasicAuth('****', '****'))\n",
    "resp_str = str(rsub.text)\n",
    "print (\"RESULT SUBMISSION: \", resp_str)"
   ]
  },
  {
   "cell_type": "code",
   "execution_count": 650,
   "metadata": {
    "ExecuteTime": {
     "end_time": "2020-05-23T15:45:17.564213Z",
     "start_time": "2020-05-23T15:45:17.548312Z"
    }
   },
   "outputs": [],
   "source": [
    "dfo_tosend.to_csv(\"0.395833140787.csv\")"
   ]
  },
  {
   "cell_type": "markdown",
   "metadata": {},
   "source": [
    "### 6.2 Pipeline with optimal hyperparameters and SMOTE"
   ]
  },
  {
   "cell_type": "markdown",
   "metadata": {},
   "source": [
    "#### Let's give smote one more chance and do some gridsearch, keeping the best performing RF hyperparameters and only optimizing our SMOTE strategy"
   ]
  },
  {
   "cell_type": "code",
   "execution_count": 665,
   "metadata": {
    "ExecuteTime": {
     "end_time": "2020-05-23T16:54:37.565598Z",
     "start_time": "2020-05-23T16:40:26.048537Z"
    }
   },
   "outputs": [
    {
     "name": "stderr",
     "output_type": "stream",
     "text": [
      "/Users/lina/anaconda3/lib/python3.7/site-packages/joblib/externals/loky/process_executor.py:706: UserWarning: A worker stopped while some jobs were given to the executor. This can be caused by a too short worker timeout or by a memory leak.\n",
      "  \"timeout or by a memory leak.\", UserWarning\n"
     ]
    },
    {
     "name": "stdout",
     "output_type": "stream",
     "text": [
      "0.01240143369175628\n",
      "{'rf__min_samples_leaf': 1, 'rf__n_estimators': 10000, 'smote__k_neighbors': 2, 'smote__sampling_strategy': 0.3}\n"
     ]
    }
   ],
   "source": [
    "smote_rf = Pipeline([ ('smote', SMOTE(random_state=3)),\n",
    "                      ('rf', RandomForestClassifier(criterion = 'entropy', \n",
    "                                #n_estimators = 100,\n",
    "                                #max_samples = 0.7,\n",
    "                                oob_score=True,\n",
    "                                #max_depth = 20, \n",
    "                                min_samples_split = 2, \n",
    "                                #min_samples_leaf = 0.0001,\n",
    "                                #max_leaf_nodes = 200,\n",
    "                                bootstrap = True,\n",
    "                                max_features='log2',\n",
    "                                #min_impurity_decrease = 0.0001,\n",
    "                                random_state = 21)), ])\n",
    "\n",
    "parameters = { 'smote__sampling_strategy':[0.2,0.25,0.3,0.35],'smote__k_neighbors':[1,2,3],\n",
    "              'rf__n_estimators':[10000],\n",
    "               'rf__min_samples_leaf':[1],\n",
    "                 }\n",
    "#smote__sampling_strategy':[0.01],\n",
    "gs_clf = GridSearchCV(smote_rf, \n",
    "                       param_grid = parameters, \n",
    "                       scoring=my_func,\n",
    "                       n_jobs=5,\n",
    "                       cv=5,\n",
    "                       refit = True,\n",
    "                       return_train_score = True)\n",
    "gs_clf = gs_clf.fit(X,y)\n",
    "print(gs_clf.best_score_)\n",
    "print(gs_clf.best_params_)\n"
   ]
  },
  {
   "cell_type": "code",
   "execution_count": 666,
   "metadata": {
    "ExecuteTime": {
     "end_time": "2020-05-23T16:54:47.137563Z",
     "start_time": "2020-05-23T16:54:37.568547Z"
    }
   },
   "outputs": [
    {
     "name": "stdout",
     "output_type": "stream",
     "text": [
      "KS= 0.999999999999997\n",
      "RESULT SUBMISSION:  KS2 = 0.355233181453; GINI = 0.480660634571; GRADE = 8.418\n"
     ]
    }
   ],
   "source": [
    "pred_dev = gs_clf.best_estimator_.predict_proba(X)[:,1]\n",
    "pred_oot  = gs_clf.best_estimator_.predict_proba(Xo)[:,1]\n",
    "KS_score = KS(y,pred_dev)\n",
    "print(\"KS=\",KS_score)\n",
    "\n",
    "dfo_index = pd.DataFrame(dfo_with_nulls.index)\n",
    "prediction_with_indexes = pd.DataFrame(dfo.index)\n",
    "prediction_with_indexes[\"prediction\"] = pred_oot\n",
    "new_df = pd.merge(dfo_index,prediction_with_indexes,  left_on=0, right_on=0, how='left')\n",
    "new_df[\"prediction\"].fillna(0, inplace=True)\n",
    "pred_oot = new_df[\"prediction\"]\n",
    "\n",
    "dfo_with_nulls[\"id\"]=dfo_id\n",
    "dfo_with_nulls['pred'] = pred_oot\n",
    "\n",
    "dfo_tosend = dfo_with_nulls[list(['id','pred'])]\n",
    "i=1\n",
    "filename = \"student_sub\"+str(i)+\".csv\"\n",
    "dfo_tosend.to_csv(filename, sep=',')\n",
    "url = '****'\n",
    "files = {'file': (filename, open(filename, 'rb'))}\n",
    "\n",
    "\"\"\"\n",
    "To compete in this challenge, please create an user at my teaching website:\n",
    "and replace below where it says:\n",
    "* my_user_name_goes_here\n",
    "* my_password_goes_here\n",
    "\"\"\"\n",
    "rsub = requests.post(url, files=files, auth=HTTPBasicAuth('****', '****'))\n",
    "resp_str = str(rsub.text)\n",
    "print (\"RESULT SUBMISSION: \", resp_str)"
   ]
  },
  {
   "cell_type": "markdown",
   "metadata": {},
   "source": [
    "# 7. Ensemble Model"
   ]
  },
  {
   "cell_type": "code",
   "execution_count": 668,
   "metadata": {
    "ExecuteTime": {
     "end_time": "2020-05-23T16:56:17.242101Z",
     "start_time": "2020-05-23T16:56:17.235372Z"
    }
   },
   "outputs": [],
   "source": [
    "from sklearn import model_selection\n",
    "from sklearn.ensemble import BaggingClassifier\n",
    "from sklearn.tree import DecisionTreeClassifier"
   ]
  },
  {
   "cell_type": "markdown",
   "metadata": {},
   "source": [
    "### I ensembled our best performing model along with a bagging classifier. It took almost 3 hours to run and the score did not improve."
   ]
  },
  {
   "cell_type": "code",
   "execution_count": 695,
   "metadata": {
    "ExecuteTime": {
     "end_time": "2020-05-23T23:34:00.072781Z",
     "start_time": "2020-05-23T20:42:10.174057Z"
    }
   },
   "outputs": [
    {
     "name": "stderr",
     "output_type": "stream",
     "text": [
      "/Users/lina/anaconda3/lib/python3.7/site-packages/sklearn/model_selection/_split.py:296: FutureWarning: Setting a random_state has no effect since shuffle is False. This will raise an error in 0.24. You should leave random_state to its default (None), or set shuffle=True.\n",
      "  FutureWarning\n"
     ]
    }
   ],
   "source": [
    "kfold = model_selection.KFold(n_splits=3, random_state=7)\n",
    "cart = RandomForestClassifier(criterion = 'entropy', \n",
    "                                n_estimators = 10000,\n",
    "                                oob_score=True,\n",
    "                                min_samples_split = 2, \n",
    "                                min_samples_leaf = 1,\n",
    "                                bootstrap = True,\n",
    "                                max_features='log2',\n",
    "                                random_state = 21,\n",
    "                                class_weight = 'balanced')\n",
    "num_trees = 100\n",
    "model = BaggingClassifier(base_estimator=cart, n_estimators=num_trees)\n",
    "results = model_selection.cross_val_score(model, X, y, cv=kfold,scoring=my_func)\n",
    "ensemble = model.fit(X,y)"
   ]
  },
  {
   "cell_type": "code",
   "execution_count": 696,
   "metadata": {
    "ExecuteTime": {
     "end_time": "2020-05-23T23:46:10.289452Z",
     "start_time": "2020-05-23T23:35:10.601705Z"
    }
   },
   "outputs": [
    {
     "name": "stdout",
     "output_type": "stream",
     "text": [
      "KS= 0.9999999999999968\n",
      "RESULT SUBMISSION:  KS2 = 0.382999149715; GINI = 0.479176101443; GRADE = 9.076\n"
     ]
    }
   ],
   "source": [
    "pred_dev = ensemble.predict_proba(X)[:,1]\n",
    "pred_oot  = ensemble.predict_proba(Xo)[:,1]\n",
    "KS_score = KS(y,pred_dev)\n",
    "print(\"KS=\",KS_score)\n",
    "\n",
    "dfo_index = pd.DataFrame(dfo_with_nulls.index)\n",
    "prediction_with_indexes = pd.DataFrame(dfo.index)\n",
    "prediction_with_indexes[\"prediction\"] = pred_oot\n",
    "new_df = pd.merge(dfo_index,prediction_with_indexes,  left_on=0, right_on=0, how='left')\n",
    "new_df[\"prediction\"].fillna(0, inplace=True)\n",
    "pred_oot = new_df[\"prediction\"]\n",
    "\n",
    "dfo_with_nulls[\"id\"]=dfo_id\n",
    "dfo_with_nulls['pred'] = pred_oot\n",
    "\n",
    "dfo_tosend = dfo_with_nulls[list(['id','pred'])]\n",
    "i=1\n",
    "filename = \"student_sub\"+str(i)+\".csv\"\n",
    "dfo_tosend.to_csv(filename, sep=',')\n",
    "url = '****'\n",
    "files = {'file': (filename, open(filename, 'rb'))}\n",
    "\n",
    "\"\"\"\n",
    "To compete in this challenge, please create an user at my teaching website:\n",
    "and replace below where it says:\n",
    "* my_user_name_goes_here\n",
    "* my_password_goes_here\n",
    "\"\"\"\n",
    "rsub = requests.post(url, files=files, auth=HTTPBasicAuth('****', '****'))\n",
    "resp_str = str(rsub.text)\n",
    "print (\"RESULT SUBMISSION: \", resp_str)"
   ]
  },
  {
   "cell_type": "markdown",
   "metadata": {},
   "source": [
    "## 8. Back to our best model"
   ]
  },
  {
   "cell_type": "code",
   "execution_count": 697,
   "metadata": {
    "ExecuteTime": {
     "end_time": "2020-05-23T23:49:31.994249Z",
     "start_time": "2020-05-23T23:47:46.167938Z"
    }
   },
   "outputs": [
    {
     "name": "stdout",
     "output_type": "stream",
     "text": [
      "0.0\n",
      "{'rf__min_samples_leaf': 1, 'rf__n_estimators': 10000}\n"
     ]
    }
   ],
   "source": [
    "smote_rf = Pipeline([ \n",
    "                      ('rf', RandomForestClassifier(criterion = 'entropy', \n",
    "                                #n_estimators = 100,\n",
    "                                #max_samples = 0.7,\n",
    "                                oob_score=True,\n",
    "                                #max_depth = 20, \n",
    "                                min_samples_split = 2, \n",
    "                                #min_samples_leaf = 0.0001,\n",
    "                                #max_leaf_nodes = 200,\n",
    "                                bootstrap = True,\n",
    "                                max_features='log2',\n",
    "                                #min_impurity_decrease = 0.0001,\n",
    "                                random_state = 21,\n",
    "                                class_weight = 'balanced')), ])\n",
    "\n",
    "from sklearn.model_selection import GridSearchCV\n",
    "#'smote__sampling_strategy':[0.01,0.1,0.2],\n",
    "\n",
    "parameters = {\n",
    "              'rf__n_estimators':[10000],\n",
    "               'rf__min_samples_leaf':[1],\n",
    "                 }\n",
    "#smote__sampling_strategy':[0.01],\n",
    "gs_clf = GridSearchCV(smote_rf, \n",
    "                       param_grid = parameters, \n",
    "                       scoring=my_func,\n",
    "                       n_jobs=5,\n",
    "                       cv=5,\n",
    "                       refit = True,\n",
    "                       return_train_score = True)\n",
    "gs_clf = gs_clf.fit(X,y)\n",
    "print(gs_clf.best_score_)\n",
    "print(gs_clf.best_params_)"
   ]
  },
  {
   "cell_type": "code",
   "execution_count": 716,
   "metadata": {
    "ExecuteTime": {
     "end_time": "2020-05-23T23:55:56.856100Z",
     "start_time": "2020-05-23T23:55:49.356215Z"
    }
   },
   "outputs": [
    {
     "name": "stdout",
     "output_type": "stream",
     "text": [
      "KS= 0.999999999999997\n",
      "RESULT SUBMISSION:  KS2 = 0.395833140787; GINI = 0.494102302239; GRADE = 9.38\n"
     ]
    }
   ],
   "source": [
    "pred_dev = gs_clf.best_estimator_.predict_proba(X)[:,1]\n",
    "pred_oot  = gs_clf.best_estimator_.predict_proba(Xo)[:,1]\n",
    "KS_score = KS(y,pred_dev)\n",
    "print(\"KS=\",KS_score)\n",
    "\n",
    "dfo_index = pd.DataFrame(dfo_with_nulls.index)\n",
    "prediction_with_indexes = pd.DataFrame(dfo.index)\n",
    "prediction_with_indexes[\"prediction\"] = pred_oot\n",
    "new_df = pd.merge(dfo_index,prediction_with_indexes,  left_on=0, right_on=0, how='left')\n",
    "new_df[\"prediction\"].fillna(0, inplace=True)\n",
    "pred_oot = new_df[\"prediction\"]\n",
    "\n",
    "dfo_with_nulls[\"id\"]=dfo_id\n",
    "dfo_with_nulls['pred'] = pred_oot\n",
    "\n",
    "dfo_tosend = dfo_with_nulls[list(['id','pred'])]\n",
    "i=1\n",
    "filename = \"student_sub\"+str(i)+\".csv\"\n",
    "dfo_tosend.to_csv(filename, sep=',')\n",
    "url = '****'\n",
    "files = {'file': (filename, open(filename, 'rb'))}\n",
    "\n",
    "\"\"\"\n",
    "To compete in this challenge, please create an user at my teaching website:\n",
    "and replace below where it says:\n",
    "* my_user_name_goes_here\n",
    "* my_password_goes_here\n",
    "\"\"\"\n",
    "rsub = requests.post(url, files=files, auth=HTTPBasicAuth('****', '****'))\n",
    "resp_str = str(rsub.text)\n",
    "print (\"RESULT SUBMISSION: \", resp_str)"
   ]
  },
  {
   "cell_type": "markdown",
   "metadata": {},
   "source": [
    "## 8.1 Back to the beginning : prediction for rows with null values"
   ]
  },
  {
   "cell_type": "code",
   "execution_count": 747,
   "metadata": {
    "ExecuteTime": {
     "end_time": "2020-05-24T10:02:33.164908Z",
     "start_time": "2020-05-24T10:02:33.157812Z"
    }
   },
   "outputs": [
    {
     "data": {
      "text/plain": [
       "['ib_var_15',\n",
       " 'ib_var_16',\n",
       " 'ib_var_17',\n",
       " 'ib_var_18',\n",
       " 'ib_var_19',\n",
       " 'ib_var_20',\n",
       " 'ib_var_21',\n",
       " 'icn_var_22',\n",
       " 'icn_var_24',\n",
       " 'ico_var_26',\n",
       " 'ico_var_33',\n",
       " 'ico_var_37',\n",
       " 'if_var_78']"
      ]
     },
     "execution_count": 747,
     "metadata": {},
     "output_type": "execute_result"
    }
   ],
   "source": [
    "#Lets check the list with the rows with Nan values that we created at the very beginning of the exercise\n",
    "null_cols"
   ]
  },
  {
   "cell_type": "markdown",
   "metadata": {},
   "source": [
    "They are only a few columns! I iterated one by one changing prediction from 0 to 1 on each until the score improved, this will be the final score!"
   ]
  },
  {
   "cell_type": "code",
   "execution_count": 718,
   "metadata": {
    "ExecuteTime": {
     "end_time": "2020-05-23T23:56:28.599581Z",
     "start_time": "2020-05-23T23:56:27.271904Z"
    }
   },
   "outputs": [
    {
     "name": "stdout",
     "output_type": "stream",
     "text": [
      "RESULT SUBMISSION:  KS2 = 0.398158716809; GINI = 0.498628684184; GRADE = 9.435\n"
     ]
    }
   ],
   "source": [
    "#change the prediction to 1 when each of these columns is na. \n",
    "for i in new_df.index:\n",
    "    if i in dfo_nulls.index and pd.isna(dfo_nulls[\"ib_var_15\"][i]) == True :\n",
    "      new_df.at[i,\"prediction\"] =1\n",
    "\n",
    "pred_oot = new_df[\"prediction\"]\n",
    "\n",
    "dfo_with_nulls[\"id\"]=dfo_id\n",
    "dfo_with_nulls['pred'] = pred_oot\n",
    "\n",
    "dfo_tosend = dfo_with_nulls[list(['id','pred'])]\n",
    "i=1\n",
    "filename = \"student_sub\"+str(i)+\".csv\"\n",
    "dfo_tosend.to_csv(filename, sep=',')\n",
    "url = '****'\n",
    "files = {'file': (filename, open(filename, 'rb'))}\n",
    "\n",
    "\"\"\"\n",
    "To compete in this challenge, please create an user at my teaching website:\n",
    "and replace below where it says:\n",
    "* my_user_name_goes_here\n",
    "* my_password_goes_here\n",
    "\"\"\"\n",
    "rsub = requests.post(url, files=files, auth=HTTPBasicAuth('****', '****'))\n",
    "resp_str = str(rsub.text)\n",
    "print (\"RESULT SUBMISSION: \", resp_str)"
   ]
  },
  {
   "cell_type": "code",
   "execution_count": 719,
   "metadata": {
    "ExecuteTime": {
     "end_time": "2020-05-23T23:56:48.957348Z",
     "start_time": "2020-05-23T23:56:48.941218Z"
    }
   },
   "outputs": [],
   "source": [
    "dfo_tosend.to_csv(\"0.398158716809.csv\")"
   ]
  },
  {
   "cell_type": "code",
   "execution_count": 720,
   "metadata": {
    "ExecuteTime": {
     "end_time": "2020-05-23T23:57:27.171823Z",
     "start_time": "2020-05-23T23:57:25.996180Z"
    }
   },
   "outputs": [
    {
     "name": "stdout",
     "output_type": "stream",
     "text": [
      "RESULT SUBMISSION:  KS2 = 0.398158716809; GINI = 0.498628684184; GRADE = 9.435\n"
     ]
    }
   ],
   "source": [
    "for i in new_df.index:\n",
    "    if i in dfo_nulls.index and pd.isna(dfo_nulls[\"icn_var_24\"][i]) == True :\n",
    "      new_df.at[i,\"prediction\"] =1\n",
    "\n",
    "pred_oot = new_df[\"prediction\"]\n",
    "\n",
    "dfo_with_nulls[\"id\"]=dfo_id\n",
    "dfo_with_nulls['pred'] = pred_oot\n",
    "\n",
    "dfo_tosend = dfo_with_nulls[list(['id','pred'])]\n",
    "i=1\n",
    "filename = \"student_sub\"+str(i)+\".csv\"\n",
    "dfo_tosend.to_csv(filename, sep=',')\n",
    "url = '****'\n",
    "files = {'file': (filename, open(filename, 'rb'))}\n",
    "\n",
    "\"\"\"\n",
    "To compete in this challenge, please create an user at my teaching website:\n",
    "and replace below where it says:\n",
    "* my_user_name_goes_here\n",
    "* my_password_goes_here\n",
    "\"\"\"\n",
    "rsub = requests.post(url, files=files, auth=HTTPBasicAuth('****', '****'))\n",
    "resp_str = str(rsub.text)\n",
    "print (\"RESULT SUBMISSION: \", resp_str)"
   ]
  },
  {
   "cell_type": "code",
   "execution_count": null,
   "metadata": {},
   "outputs": [],
   "source": []
  }
 ],
 "metadata": {
  "kernelspec": {
   "display_name": "Python 3",
   "language": "python",
   "name": "python3"
  },
  "language_info": {
   "codemirror_mode": {
    "name": "ipython",
    "version": 3
   },
   "file_extension": ".py",
   "mimetype": "text/x-python",
   "name": "python",
   "nbconvert_exporter": "python",
   "pygments_lexer": "ipython3",
   "version": "3.7.3"
  }
 },
 "nbformat": 4,
 "nbformat_minor": 4
}
